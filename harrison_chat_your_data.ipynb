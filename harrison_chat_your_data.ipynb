{
 "cells": [
  {
   "cell_type": "markdown",
   "id": "93246efb-5dc6-46c9-ba76-daa026b910bf",
   "metadata": {},
   "source": [
    "# Load data"
   ]
  },
  {
   "cell_type": "code",
   "execution_count": 1,
   "id": "ce7c37ff-fc30-4678-9b98-1b9936b2187e",
   "metadata": {},
   "outputs": [],
   "source": [
    "from langchain.document_loaders.unstructured import UnstructuredFileLoader"
   ]
  },
  {
   "cell_type": "code",
   "execution_count": 2,
   "id": "e58b77dc-b8f5-4563-ab3a-af19f776b9f3",
   "metadata": {},
   "outputs": [
    {
     "name": "stdout",
     "output_type": "stream",
     "text": [
      "Loading data...\n"
     ]
    }
   ],
   "source": [
    "print(\"Loading data...\")\n",
    "loader = UnstructuredFileLoader(\"state_of_the_union.txt\")\n",
    "raw_documents = loader.load()"
   ]
  },
  {
   "cell_type": "markdown",
   "id": "6aaa67bc-3044-4056-8178-b7338994737a",
   "metadata": {},
   "source": [
    "## Analysis"
   ]
  },
  {
   "cell_type": "code",
   "execution_count": 3,
   "id": "64696bbb-baa3-4582-af6e-af7bc390d870",
   "metadata": {},
   "outputs": [
    {
     "data": {
      "text/plain": [
       "1"
      ]
     },
     "execution_count": 3,
     "metadata": {},
     "output_type": "execute_result"
    }
   ],
   "source": [
    "len(raw_documents)"
   ]
  },
  {
   "cell_type": "markdown",
   "id": "62b0992b-eedd-4775-be10-a45ed600014d",
   "metadata": {},
   "source": [
    "# Split text"
   ]
  },
  {
   "cell_type": "code",
   "execution_count": 4,
   "id": "d4215f74-1f80-478d-aa06-60382f0ae28f",
   "metadata": {},
   "outputs": [],
   "source": [
    "from langchain.text_splitter import CharacterTextSplitter"
   ]
  },
  {
   "cell_type": "code",
   "execution_count": 5,
   "id": "0a67ffed-7fde-446d-ba42-4d709ff876ac",
   "metadata": {},
   "outputs": [
    {
     "name": "stdout",
     "output_type": "stream",
     "text": [
      "Splitting text...\n"
     ]
    }
   ],
   "source": [
    "print(\"Splitting text...\")\n",
    "text_splitter = CharacterTextSplitter(\n",
    "    separator=\"\\n\\n\",\n",
    "    chunk_size=600,\n",
    "    chunk_overlap=100,\n",
    "    length_function=len,\n",
    ")\n",
    "documents = text_splitter.split_documents(raw_documents)"
   ]
  },
  {
   "cell_type": "markdown",
   "id": "d067ce7a-4028-47df-a504-4debd1de0ed8",
   "metadata": {},
   "source": [
    "## Analysis"
   ]
  },
  {
   "cell_type": "code",
   "execution_count": 6,
   "id": "fdc7322a-e581-4b70-bb81-605c36cbad7d",
   "metadata": {},
   "outputs": [
    {
     "data": {
      "text/plain": [
       "77"
      ]
     },
     "execution_count": 6,
     "metadata": {},
     "output_type": "execute_result"
    }
   ],
   "source": [
    "len(documents)"
   ]
  },
  {
   "cell_type": "markdown",
   "id": "37a92fb0-dadb-4866-94ad-4ebd07516460",
   "metadata": {},
   "source": [
    "# Create Embeddings and store in vectorstore"
   ]
  },
  {
   "cell_type": "code",
   "execution_count": 7,
   "id": "a2cb4980-8dce-4e14-a97f-fbcdd39ff0ca",
   "metadata": {},
   "outputs": [],
   "source": [
    "from langchain.embeddings.openai import OpenAIEmbeddings"
   ]
  },
  {
   "cell_type": "code",
   "execution_count": 8,
   "id": "d3c6eca6-77c8-4310-a8a4-f93eaa2aaed5",
   "metadata": {},
   "outputs": [],
   "source": [
    "from langchain.vectorstores.faiss import FAISS"
   ]
  },
  {
   "cell_type": "code",
   "execution_count": 17,
   "id": "4eee2ebb-eb36-4c7d-9a2b-5eb29d33fb2b",
   "metadata": {},
   "outputs": [
    {
     "name": "stdout",
     "output_type": "stream",
     "text": [
      "Creating vectorstore...\n"
     ]
    }
   ],
   "source": [
    "print(\"Creating vectorstore...\")\n",
    "embeddings = OpenAIEmbeddings()\n",
    "vectorstore = FAISS.from_documents(documents, embeddings)\n"
   ]
  },
  {
   "cell_type": "code",
   "execution_count": 18,
   "id": "bde7fa4d-de51-401d-8a5b-f4dcac650739",
   "metadata": {},
   "outputs": [],
   "source": [
    "vectorstore.save_local(\"vectorstore.vs\")"
   ]
  },
  {
   "cell_type": "markdown",
   "id": "3f273f46-5c37-4a7d-8294-a175b3f9a739",
   "metadata": {},
   "source": [
    "# Query Data"
   ]
  },
  {
   "cell_type": "code",
   "execution_count": 23,
   "id": "e55be0c2-ef70-48d3-b9e7-026c79548bfc",
   "metadata": {},
   "outputs": [],
   "source": [
    "from langchain.chat_models import ChatOpenAI\n",
    "from langchain.memory import ConversationBufferMemory\n",
    "from langchain.vectorstores.base import VectorStoreRetriever\n",
    "from langchain.chains import ConversationalRetrievalChain"
   ]
  },
  {
   "cell_type": "code",
   "execution_count": 24,
   "id": "11510c2a-517b-4cd6-bb9b-9d7592d91b6c",
   "metadata": {},
   "outputs": [],
   "source": [
    "llm = ChatOpenAI(model_name=\"gpt-4\", temperature=0)\n",
    "retriever = vectorstore.as_retriever()\n",
    "memory = ConversationBufferMemory(\n",
    "    memory_key=\"chat_history\", return_messages=True)\n",
    "model = ConversationalRetrievalChain.from_llm(\n",
    "    llm=llm, \n",
    "    retriever=retriever,\n",
    "    memory=memory)"
   ]
  },
  {
   "cell_type": "markdown",
   "id": "67a58f74-2f32-49af-aacd-c49e5d9102d0",
   "metadata": {},
   "source": [
    "# Custom QA prompt"
   ]
  },
  {
   "cell_type": "code",
   "execution_count": 25,
   "id": "2cf6766c-febc-43ae-a155-8d80c634b491",
   "metadata": {},
   "outputs": [],
   "source": [
    "from langchain.prompts import PromptTemplate"
   ]
  },
  {
   "cell_type": "code",
   "execution_count": 26,
   "id": "f3c70667-e6dd-464f-a658-4de580690950",
   "metadata": {},
   "outputs": [],
   "source": [
    "template = \"\"\"You are an AI assistant for answering questions about the most recent state of the union address.\n",
    "You are given the following extracted parts of a long document and a question. Provide a conversational answer.\n",
    "If you don't know the answer, just say \"Hmm, I'm not sure.\" Don't try to make up an answer.\n",
    "If the question is not about the most recent state of the union, politely inform them that you are tuned to only answer questions about the most recent state of the union.\n",
    "Question: {question}\n",
    "=========\n",
    "{context}\n",
    "=========\n",
    "Answer in Markdown:\"\"\""
   ]
  },
  {
   "cell_type": "code",
   "execution_count": 30,
   "id": "088ee27e-d1ac-48c1-a28a-f88ccbc358a5",
   "metadata": {},
   "outputs": [],
   "source": [
    "QA_PROMPT = PromptTemplate(template=template, input_variables=[\n",
    "                           \"question\", \"context\"])\n",
    "llm = ChatOpenAI(model_name=\"gpt-4\", temperature=0)\n",
    "memory = ConversationBufferMemory(\n",
    "    memory_key=\"chat_history\", return_messages=True)\n",
    "model = ConversationalRetrievalChain.from_llm(\n",
    "    llm=llm,\n",
    "    retriever=retriever,\n",
    "    memory=memory,\n",
    "    combine_docs_chain_kwargs={\"prompt\": QA_PROMPT})"
   ]
  },
  {
   "cell_type": "markdown",
   "id": "eabd18c8-818e-4446-b146-21ba80af9b29",
   "metadata": {},
   "source": [
    "### Test"
   ]
  },
  {
   "cell_type": "code",
   "execution_count": 31,
   "id": "bae70d76-fe3e-4e88-b81d-5e6da9449adf",
   "metadata": {},
   "outputs": [],
   "source": [
    "chat_history = []\n",
    "query = \"what did the president say about ketanji brown?\""
   ]
  },
  {
   "cell_type": "code",
   "execution_count": 33,
   "id": "e715d0af-8308-4760-b037-3221fc681013",
   "metadata": {},
   "outputs": [
    {
     "data": {
      "text/plain": [
       "{'question': 'what did the president say about ketanji brown?',\n",
       " 'chat_history': [HumanMessage(content='what did the president say about ketanji brown?'),\n",
       "  AIMessage(content=\"The President spoke highly of Ketanji Brown Jackson during the most recent state of the union address. He mentioned that he had nominated her to serve on the United States Supreme Court, describing her as one of the nation's top legal minds who would continue Justice Breyer's legacy of excellence. He also highlighted her background as a former top litigator in private practice, a former federal public defender, and a member of a family of public school educators and police officers. He referred to her as a consensus builder and noted that she had received a broad range of support since her nomination, including from the Fraternal Order of Police and former judges appointed by both Democrats and Republicans.\")],\n",
       " 'answer': \"The President spoke highly of Ketanji Brown Jackson during the most recent state of the union address. He mentioned that he had nominated her to serve on the United States Supreme Court, describing her as one of the nation's top legal minds who would continue Justice Breyer's legacy of excellence. He also highlighted her background as a former top litigator in private practice, a former federal public defender, and a member of a family of public school educators and police officers. He referred to her as a consensus builder and noted that she had received a broad range of support since her nomination, including from the Fraternal Order of Police and former judges appointed by both Democrats and Republicans.\"}"
      ]
     },
     "execution_count": 33,
     "metadata": {},
     "output_type": "execute_result"
    }
   ],
   "source": [
    "model({\"question\": query})"
   ]
  },
  {
   "cell_type": "markdown",
   "id": "347252b7-05d8-4132-9092-ea9e787d1e98",
   "metadata": {},
   "source": [
    "# Long Conversation Case"
   ]
  },
  {
   "cell_type": "code",
   "execution_count": 34,
   "id": "70517439-5ed9-4e16-b42b-7c366f15a709",
   "metadata": {},
   "outputs": [],
   "source": [
    "_template = \"\"\"Given the following conversation and a follow up question, rephrase the follow up question to be a standalone question.\n",
    "You can assume the question about the most recent state of the union address.\n",
    "\n",
    "Chat History:\n",
    "{chat_history}\n",
    "Follow up Input: {question}\n",
    "Standalone question:\"\"\"\n",
    "CONDENSE_QUESTION_PROMPT = PromptTemplate.from_template(_template)\n",
    "\n",
    "model = ConversationalRetrievalChain.from_llm(\n",
    "    llm=llm,\n",
    "    retriever=retriever,\n",
    "    memory=memory,\n",
    "    condense_question_prompt=CONDENSE_QUESTION_PROMPT,\n",
    "    combine_docs_chain_kwargs={\"prompt\": QA_PROMPT})"
   ]
  },
  {
   "cell_type": "code",
   "execution_count": 36,
   "id": "81cd0755-3ad8-40b1-bdbd-7280fced713a",
   "metadata": {},
   "outputs": [
    {
     "data": {
      "text/plain": [
       "ConversationBufferMemory(chat_memory=ChatMessageHistory(messages=[HumanMessage(content='what did the president say about ketanji brown?'), AIMessage(content=\"The President spoke highly of Ketanji Brown Jackson during the most recent state of the union address. He mentioned that he had nominated her to serve on the United States Supreme Court, describing her as one of the nation's top legal minds who would continue Justice Breyer's legacy of excellence. He also highlighted her background as a former top litigator in private practice, a former federal public defender, and a member of a family of public school educators and police officers. He referred to her as a consensus builder and noted that she had received a broad range of support since her nomination, including from the Fraternal Order of Police and former judges appointed by both Democrats and Republicans.\")]), return_messages=True, memory_key='chat_history')"
      ]
     },
     "execution_count": 36,
     "metadata": {},
     "output_type": "execute_result"
    }
   ],
   "source": [
    "memory"
   ]
  },
  {
   "cell_type": "code",
   "execution_count": 37,
   "id": "2f67f7e5-8d8e-437b-abab-adf3c5eae01e",
   "metadata": {},
   "outputs": [
    {
     "data": {
      "text/plain": [
       "{'question': \"What's the most import thing he said?\",\n",
       " 'chat_history': [HumanMessage(content='what did the president say about ketanji brown?'),\n",
       "  AIMessage(content=\"The President spoke highly of Ketanji Brown Jackson during the most recent state of the union address. He mentioned that he had nominated her to serve on the United States Supreme Court, describing her as one of the nation's top legal minds who would continue Justice Breyer's legacy of excellence. He also highlighted her background as a former top litigator in private practice, a former federal public defender, and a member of a family of public school educators and police officers. He referred to her as a consensus builder and noted that she had received a broad range of support since her nomination, including from the Fraternal Order of Police and former judges appointed by both Democrats and Republicans.\"),\n",
       "  HumanMessage(content=\"What's the most import thing he said?\"),\n",
       "  AIMessage(content=\"During the most recent State of the Union address, the President referred to Ketanji Brown Jackson as one of the nation's top legal minds. He mentioned that he had nominated her to serve on the United States Supreme Court four days prior to the address. He expressed his belief that she would continue Justice Breyer's legacy of excellence.\")],\n",
       " 'answer': \"During the most recent State of the Union address, the President referred to Ketanji Brown Jackson as one of the nation's top legal minds. He mentioned that he had nominated her to serve on the United States Supreme Court four days prior to the address. He expressed his belief that she would continue Justice Breyer's legacy of excellence.\"}"
      ]
     },
     "execution_count": 37,
     "metadata": {},
     "output_type": "execute_result"
    }
   ],
   "source": [
    "model({\"question\": \"What's the most import thing he said?\"})"
   ]
  },
  {
   "cell_type": "markdown",
   "id": "821afd25-89b4-4297-adfb-1a3afb3cb17d",
   "metadata": {},
   "source": [
    "# Cite Sources"
   ]
  },
  {
   "cell_type": "code",
   "execution_count": 38,
   "id": "8a64b458-580a-472e-bf5c-9e31d57cff69",
   "metadata": {},
   "outputs": [
    {
     "data": {
      "text/plain": [
       "{'question': 'What are the main points of the document',\n",
       " 'chat_history': [('What are the main points of the document',\n",
       "   \"The main points of the document are:\\n\\n1. The speaker is calling for unity and responsibility among Americans, emphasizing the importance of the current moment in history.\\n2. The speaker expresses optimism about the future of America, stating that there is nothing beyond the nation's capacity.\\n3. The speaker mentions joint patrols with Mexico and Guatemala to catch human traffickers, and the implementation of dedicated immigration judges to expedite cases of families fleeing persecution and violence.\\n4. The speaker talks about securing commitments from partners in South and Central America to host more refugees and secure their borders.\\n5. The speaker calls for community protection, restoration of trust, and accountability in law enforcement.\\n6. The speaker mentions measures taken by the Justice Department, such as requiring body cameras, banning chokeholds, and restricting no-knock warrants for its officers.\\n7. The speaker mentions the American Rescue Plan, which provided $350 Billion for cities, states, and counties to hire more police and invest in strategies like community violence interruption.\")],\n",
       " 'answer': \"The main points of the document are:\\n\\n1. The speaker is calling for unity and responsibility among Americans, emphasizing the importance of the current moment in history.\\n2. The speaker expresses optimism about the future of America, stating that there is nothing beyond the nation's capacity.\\n3. The speaker mentions joint patrols with Mexico and Guatemala to catch human traffickers, and the implementation of dedicated immigration judges to expedite cases of families fleeing persecution and violence.\\n4. The speaker talks about securing commitments from partners in South and Central America to host more refugees and secure their borders.\\n5. The speaker calls for community protection, restoration of trust, and accountability in law enforcement.\\n6. The speaker mentions measures taken by the Justice Department, such as requiring body cameras, banning chokeholds, and restricting no-knock warrants for its officers.\\n7. The speaker mentions the American Rescue Plan, which provided $350 Billion for cities, states, and counties to hire more police and invest in strategies like community violence interruption.\",\n",
       " 'source_documents': [Document(page_content='A unity agenda for the nation.\\n\\nWe can do this.\\n\\nMy fellow Americans—tonight , we have gathered in a sacred space—the citadel of our democracy.\\n\\nIn this Capitol, generation after generation, Americans have debated great questions amid great strife, and have done great things.\\n\\nWe have fought for freedom, expanded liberty, defeated totalitarianism and terror.\\n\\nAnd built the strongest, freest, and most prosperous nation the world has ever known.\\n\\nNow is the hour.\\n\\nOur moment of responsibility.\\n\\nOur test of resolve and conscience, of history itself.', metadata={'source': 'state_of_the_union.txt'}),\n",
       "  Document(page_content='Our moment of responsibility.\\n\\nOur test of resolve and conscience, of history itself.\\n\\nIt is in this moment that our character is formed. Our purpose is found. Our future is forged.\\n\\nWell I know this nation.\\n\\nWe will meet the test.\\n\\nTo protect freedom and liberty, to expand fairness and opportunity.\\n\\nWe will save democracy.\\n\\nAs hard as these times have been, I am more optimistic about America today than I have been my whole life.\\n\\nBecause I see the future that is within our grasp.\\n\\nBecause I know there is simply nothing beyond our capacity.', metadata={'source': 'state_of_the_union.txt'}),\n",
       "  Document(page_content='We’ve set up joint patrols with Mexico and Guatemala to catch more human traffickers.\\n\\nWe’re putting in place dedicated immigration judges so families fleeing persecution and violence can have their cases heard faster.\\n\\nWe’re securing commitments and supporting partners in South and Central America to host more refugees and secure their own borders.\\n\\nWe can do all this while keeping lit the torch of liberty that has led generations of immigrants to this land—my forefathers and so many of yours.', metadata={'source': 'state_of_the_union.txt'}),\n",
       "  Document(page_content='Let’s come together to protect our communities, restore trust, and hold law enforcement accountable.\\n\\nThat’s why the Justice Department required body cameras, banned chokeholds, and restricted no-knock warrants for its officers.\\n\\nThat’s why the American Rescue Plan provided $350 Billion that cities, states, and counties can use to hire more police and invest in proven strategies like community violence interruption—trusted messengers breaking the cycle of violence and trauma and giving young people hope.', metadata={'source': 'state_of_the_union.txt'})]}"
      ]
     },
     "execution_count": 38,
     "metadata": {},
     "output_type": "execute_result"
    }
   ],
   "source": [
    "history = []\n",
    "model = ConversationalRetrievalChain.from_llm(\n",
    "    llm=llm,\n",
    "    retriever=retriever, \n",
    "    return_source_documents=True)\n",
    "\n",
    "def model_func(question):\n",
    "    # bug : this doesn't work with the built in memory\n",
    "    new_input = {\"question\": question['question'], \"chat_history\": history}\n",
    "    result = model(new_input)\n",
    "    history.append((question['question'], result['answer']))\n",
    "    return result\n",
    "\n",
    "model_func({\"question\": \"What are the main points of the document\"})"
   ]
  },
  {
   "cell_type": "code",
   "execution_count": null,
   "id": "b940e889-2ca6-4aaf-ad22-487fef525c11",
   "metadata": {},
   "outputs": [],
   "source": []
  },
  {
   "cell_type": "code",
   "execution_count": null,
   "id": "11794b9f-2f14-45bb-ad15-a9289dde2e7a",
   "metadata": {},
   "outputs": [],
   "source": []
  }
 ],
 "metadata": {
  "kernelspec": {
   "display_name": "chat_w_doc_demo_venv",
   "language": "python",
   "name": "chat_w_doc_demo_venv"
  },
  "language_info": {
   "codemirror_mode": {
    "name": "ipython",
    "version": 3
   },
   "file_extension": ".py",
   "mimetype": "text/x-python",
   "name": "python",
   "nbconvert_exporter": "python",
   "pygments_lexer": "ipython3",
   "version": "3.11.5"
  }
 },
 "nbformat": 4,
 "nbformat_minor": 5
}
