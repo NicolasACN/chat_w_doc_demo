{
 "cells": [
  {
   "cell_type": "code",
   "execution_count": 24,
   "metadata": {},
   "outputs": [],
   "source": [
    "import csv\n",
    "import sqlite3"
   ]
  },
  {
   "cell_type": "code",
   "execution_count": 52,
   "metadata": {},
   "outputs": [],
   "source": [
    "conn = sqlite3.connect('./db/transavia_demo.db')\n",
    "cursor = conn.cursor()"
   ]
  },
  {
   "cell_type": "code",
   "execution_count": 26,
   "metadata": {},
   "outputs": [
    {
     "data": {
      "text/plain": [
       "<sqlite3.Cursor at 0x10b2ae6c0>"
      ]
     },
     "execution_count": 26,
     "metadata": {},
     "output_type": "execute_result"
    }
   ],
   "source": [
    "\n",
    "cursor.execute(\"\"\"\n",
    "select * from flights_restricted\"\"\")"
   ]
  },
  {
   "cell_type": "code",
   "execution_count": 27,
   "metadata": {},
   "outputs": [
    {
     "data": {
      "text/plain": [
       "[(1, 'ON TIME', 'CDG', 'VCE', 100),\n",
       " (2, 'DELAYED', 'VCE', 'CDG', 200),\n",
       " (3, 'ON TIME', 'JFK', 'CDG', 150),\n",
       " (4, 'ON TIME', 'CDG', 'JFK', 230),\n",
       " (5, 'DELAYED', 'CDG', 'VCE', 130),\n",
       " (6, 'ON TIME', 'CDG', 'VCE', 200),\n",
       " (7, 'ON TIME', 'VCE', 'ORY', 150)]"
      ]
     },
     "execution_count": 27,
     "metadata": {},
     "output_type": "execute_result"
    }
   ],
   "source": [
    "cursor.fetchall()"
   ]
  },
  {
   "cell_type": "markdown",
   "metadata": {},
   "source": [
    "# Create the flights tables"
   ]
  },
  {
   "cell_type": "code",
   "execution_count": 28,
   "metadata": {},
   "outputs": [
    {
     "data": {
      "text/plain": [
       "<sqlite3.Cursor at 0x10b2ae6c0>"
      ]
     },
     "execution_count": 28,
     "metadata": {},
     "output_type": "execute_result"
    }
   ],
   "source": [
    "cursor.execute(\"\"\"\n",
    "CREATE TABLE IF NOT EXISTS flights (\n",
    "    flight_id INTEGER PRIMARY KEY,\n",
    "    status TEXT,\n",
    "    origin TEXT,\n",
    "    destination TEXT,\n",
    "    seats_available INTEGER,\n",
    "    departure_date DATE,\n",
    "    departure_time TIME\n",
    ")\n",
    "\"\"\")"
   ]
  },
  {
   "cell_type": "markdown",
   "metadata": {},
   "source": [
    "# Add flights data from flights.csv"
   ]
  },
  {
   "cell_type": "code",
   "execution_count": 29,
   "metadata": {},
   "outputs": [],
   "source": [
    "import os"
   ]
  },
  {
   "cell_type": "code",
   "execution_count": 30,
   "metadata": {},
   "outputs": [],
   "source": [
    "CSV_DATA_PATH = \"./csv_data/flights.csv\""
   ]
  },
  {
   "cell_type": "code",
   "execution_count": 31,
   "metadata": {},
   "outputs": [],
   "source": [
    "def print_csv_data(file_path=CSV_DATA_PATH):\n",
    "    with open(file_path, \"r\") as file:\n",
    "        csv_reader = csv.reader(file)\n",
    "        next(csv_reader, None)\n",
    "    \n",
    "        for row in csv_reader:\n",
    "            print(row)"
   ]
  },
  {
   "cell_type": "code",
   "execution_count": 32,
   "metadata": {},
   "outputs": [
    {
     "name": "stdout",
     "output_type": "stream",
     "text": [
      "['1', 'ON TIME', 'CDG', 'VCE', '100', '2023-12-07', '08:00']\n",
      "['2', 'DELAYED', 'VCE', 'CDG', '200', '2023-12-08', '09:00']\n",
      "['3', 'ON TIME', 'JFK', 'CDG', '150', '2023-12-09', '10:00']\n",
      "['4', 'ON TIME', 'CDG', 'JFK', '230', '2023-12-10', '10:30']\n",
      "['5', 'DELAYED', 'CDG', 'VCE', '130', '2023-12-11', '12:00']\n",
      "['6', 'ON TIME', 'CDG', 'VCE', '200', '2023-12-12', '14:00']\n",
      "['7', 'ON TIME', 'VCE', 'ORY', '150', '2023-12-13', '19:30']\n"
     ]
    }
   ],
   "source": [
    "print_csv_data()"
   ]
  },
  {
   "cell_type": "code",
   "execution_count": 33,
   "metadata": {},
   "outputs": [],
   "source": [
    "def write_data_to_db(csv_data_path=CSV_DATA_PATH, table_name=\"flights\"):\n",
    "    with open(csv_data_path, 'r') as file:\n",
    "        csv_reader = csv.reader(file)\n",
    "        next(csv_reader, None)\n",
    "    \n",
    "        for row in csv_reader:\n",
    "            cursor.execute(\n",
    "                f\"\"\"\n",
    "                INSERT INTO {table_name} (flight_id, status, origin, destination, seats_available, departure_date, departure_time) VALUES (?, ?, ?, ?, ?, ?, ?)\"\"\"\n",
    "                , row)\n",
    "        \n",
    "    conn.commit()\n"
   ]
  },
  {
   "cell_type": "code",
   "execution_count": 34,
   "metadata": {},
   "outputs": [],
   "source": [
    "write_data_to_db()"
   ]
  },
  {
   "cell_type": "code",
   "execution_count": 35,
   "metadata": {},
   "outputs": [
    {
     "name": "stdout",
     "output_type": "stream",
     "text": [
      "['1', 'ON TIME', 'CDG', 'VCE', '100', '2023-12-07', '08:00']\n",
      "['2', 'DELAYED', 'VCE', 'CDG', '200', '2023-12-08', '09:00']\n",
      "['3', 'ON TIME', 'JFK', 'CDG', '150', '2023-12-09', '10:00']\n",
      "['4', 'ON TIME', 'CDG', 'JFK', '230', '2023-12-10', '10:30']\n",
      "['5', 'DELAYED', 'CDG', 'VCE', '130', '2023-12-11', '12:00']\n",
      "['6', 'ON TIME', 'CDG', 'VCE', '200', '2023-12-12', '14:00']\n",
      "['7', 'ON TIME', 'VCE', 'ORY', '150', '2023-12-13', '19:30']\n"
     ]
    }
   ],
   "source": [
    "print_csv_data()"
   ]
  },
  {
   "cell_type": "markdown",
   "metadata": {},
   "source": [
    "---"
   ]
  },
  {
   "cell_type": "code",
   "execution_count": 36,
   "metadata": {},
   "outputs": [],
   "source": [
    "origin = \"CDG\"\n",
    "destination = \"VCE\"\n",
    "date = \"2023-12-09\""
   ]
  },
  {
   "cell_type": "code",
   "execution_count": 45,
   "metadata": {},
   "outputs": [],
   "source": [
    "query = \"\"\"\n",
    "select * from flights\n",
    "where origin = ?\n",
    "and destination = ?\n",
    "and departure_date >= ?\n",
    "\"\"\""
   ]
  },
  {
   "cell_type": "code",
   "execution_count": 47,
   "metadata": {},
   "outputs": [
    {
     "data": {
      "text/plain": [
       "[(5, 'DELAYED', 'CDG', 'VCE', 130, '2023-12-11', '12:00'),\n",
       " (6, 'ON TIME', 'CDG', 'VCE', 200, '2023-12-12', '14:00')]"
      ]
     },
     "execution_count": 47,
     "metadata": {},
     "output_type": "execute_result"
    }
   ],
   "source": [
    "cursor.execute(query, (origin, destination, date)).fetchall()"
   ]
  },
  {
   "cell_type": "code",
   "execution_count": 40,
   "metadata": {},
   "outputs": [
    {
     "data": {
      "text/plain": [
       "[(1, 'ON TIME', 'CDG', 'VCE', 100, '2023-12-07', '08:00'),\n",
       " (2, 'DELAYED', 'VCE', 'CDG', 200, '2023-12-08', '09:00'),\n",
       " (3, 'ON TIME', 'JFK', 'CDG', 150, '2023-12-09', '10:00'),\n",
       " (4, 'ON TIME', 'CDG', 'JFK', 230, '2023-12-10', '10:30'),\n",
       " (5, 'DELAYED', 'CDG', 'VCE', 130, '2023-12-11', '12:00'),\n",
       " (6, 'ON TIME', 'CDG', 'VCE', 200, '2023-12-12', '14:00'),\n",
       " (7, 'ON TIME', 'VCE', 'ORY', 150, '2023-12-13', '19:30')]"
      ]
     },
     "execution_count": 40,
     "metadata": {},
     "output_type": "execute_result"
    }
   ],
   "source": [
    "cursor.execute(f\"\"\"\n",
    "        select * from flights\"\"\").fetchall()"
   ]
  },
  {
   "cell_type": "code",
   "execution_count": 42,
   "metadata": {},
   "outputs": [
    {
     "data": {
      "text/plain": [
       "[(1, 'ON TIME', 'CDG', 'VCE', 100, '2023-12-07', '08:00')]"
      ]
     },
     "execution_count": 42,
     "metadata": {},
     "output_type": "execute_result"
    }
   ],
   "source": [
    "cursor.execute(f\"\"\"\n",
    "        select * from flights\n",
    "        where flight_id = 1\"\"\").fetchall()"
   ]
  },
  {
   "cell_type": "markdown",
   "metadata": {},
   "source": [
    "# Add new row"
   ]
  },
  {
   "cell_type": "code",
   "execution_count": null,
   "metadata": {},
   "outputs": [],
   "source": [
    "row_data = "
   ]
  },
  {
   "cell_type": "code",
   "execution_count": null,
   "metadata": {},
   "outputs": [],
   "source": []
  },
  {
   "cell_type": "code",
   "execution_count": null,
   "metadata": {},
   "outputs": [],
   "source": []
  },
  {
   "cell_type": "code",
   "execution_count": null,
   "metadata": {},
   "outputs": [],
   "source": []
  },
  {
   "cell_type": "code",
   "execution_count": null,
   "metadata": {},
   "outputs": [],
   "source": []
  },
  {
   "cell_type": "code",
   "execution_count": null,
   "metadata": {},
   "outputs": [],
   "source": []
  },
  {
   "cell_type": "code",
   "execution_count": null,
   "metadata": {},
   "outputs": [],
   "source": []
  }
 ],
 "metadata": {
  "kernelspec": {
   "display_name": "chat-w-doc2",
   "language": "python",
   "name": "chat-w-doc2"
  },
  "language_info": {
   "codemirror_mode": {
    "name": "ipython",
    "version": 3
   },
   "file_extension": ".py",
   "mimetype": "text/x-python",
   "name": "python",
   "nbconvert_exporter": "python",
   "pygments_lexer": "ipython3",
   "version": "3.10.13"
  }
 },
 "nbformat": 4,
 "nbformat_minor": 2
}
