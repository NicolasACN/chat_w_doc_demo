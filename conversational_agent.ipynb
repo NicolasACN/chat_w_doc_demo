{
 "cells": [
  {
   "cell_type": "markdown",
   "id": "6d3a5b5e-6eff-4f90-a727-802163a87f70",
   "metadata": {},
   "source": [
    "# Loader"
   ]
  },
  {
   "cell_type": "code",
   "execution_count": 1,
   "id": "e692d43b-3fd5-411c-bc5d-5b9ef5c6d690",
   "metadata": {},
   "outputs": [],
   "source": [
    "import os"
   ]
  },
  {
   "cell_type": "code",
   "execution_count": 34,
   "id": "3fe7d683-d65c-4c59-8c34-3e5d7d1fd88f",
   "metadata": {},
   "outputs": [],
   "source": [
    "import openai"
   ]
  },
  {
   "cell_type": "code",
   "execution_count": 2,
   "id": "d10ac39d-93f9-427d-9002-6c507f489022",
   "metadata": {},
   "outputs": [],
   "source": [
    "import sys"
   ]
  },
  {
   "cell_type": "code",
   "execution_count": 5,
   "id": "4c8f9c60-aa51-4831-94d4-9a91cd789cfc",
   "metadata": {},
   "outputs": [],
   "source": [
    "from dotenv import load_dotenv"
   ]
  },
  {
   "cell_type": "code",
   "execution_count": 35,
   "id": "0a0193a7-4d12-47b5-ac71-5139f0ebabd4",
   "metadata": {},
   "outputs": [],
   "source": [
    "load_dotenv()\n",
    "\n",
    "openai.api_key = os.getenv(\"OPENAI_API_KEY\")"
   ]
  },
  {
   "cell_type": "markdown",
   "id": "ead78fb2-e2e4-47a4-b317-b5811cae5b8e",
   "metadata": {},
   "source": [
    "# Folder loading and metadata enrichment"
   ]
  },
  {
   "cell_type": "code",
   "execution_count": 10,
   "id": "dc8010a4-93d5-4535-920b-45a0cbcbebf5",
   "metadata": {},
   "outputs": [],
   "source": [
    "from langchain.document_loaders import DirectoryLoader"
   ]
  },
  {
   "cell_type": "code",
   "execution_count": 16,
   "id": "7af697fa-7397-4db7-80d0-26eee0f63e84",
   "metadata": {},
   "outputs": [],
   "source": [
    "loader = DirectoryLoader('FAQ/', glob=\"*.txt\")"
   ]
  },
  {
   "cell_type": "code",
   "execution_count": 17,
   "id": "fc096245-0f07-4744-b829-11d7d2666273",
   "metadata": {},
   "outputs": [],
   "source": [
    "documents = loader.load()"
   ]
  },
  {
   "cell_type": "code",
   "execution_count": 19,
   "id": "3e5b6cbe-b644-4f48-819b-bf9e05e81c62",
   "metadata": {},
   "outputs": [
    {
     "name": "stdout",
     "output_type": "stream",
     "text": [
      "page_content='HAND LUGGAGE\\n\\nAm I always allowed to take my hand luggage with me in the cabin? Your accessory (max. 40 x 30 x 20 cm) is always allowed in the cabin. Place it under the seat in front of you. For larger bags and trolleys (max. 55 x 35 x 25 cm) there is limited space in the cabin. Only the first 70 pieces are therefore allowed on board. The remaining bags and trolleys of this size are taken in at the gate and transported free of charge in the hold. Important for onboard safety! If we transport your hand luggage in the hold, make sure you place your electronics and batteries in your accessory (for example in your handbag or backpack). With electronics, we mean a phone, tablet, e-reader, laptop or e-cigarette, for example. With batteries, we mean loose AA batteries or a power bank, for example. You can read more about this in ‘Allowed in luggage’.\\n\\nCan I bring food and drinks with me? Yes, you can take food in your hand luggage. However, the same rules apply for drinks as for other liquids: you can take 1 litre with you, in packages of max. 100 ml. If you purchase drinks after the security check, then you can take them in the cabin. Of course, you can also order food and drinks on board. View the selection on board. Please note: You are not allowed to drink your own alcohol on board.\\n\\nCan I check in my hand luggage? Please do! You can hand in your hand luggage at the check-in desk at the airport. This leaves your hands free and allows you to go through the security faster. We strictly advise that you take your valuables, such as documents, electronics, batteries and medicines, with you in your accessory (max. 40 x 30 x 20 cm), so that you have them on board. You can retrieve your hand luggage from the baggage carousel after the flight.\\n\\nHow many pieces of hand luggage can I take with me for my baby/child? If your baby is travelling on your lap, you are not allowed to bring separate hand luggage for your baby. If you would like to take baby food or a nappy bag with you in the cabin, please put them in your own hand luggage. Baby food does not need to be placed in a transparent plastic bag, like other liquids. You may take as much baby food with you on board as your baby needs during the flight. A maximum of 100 ml of boiled water (for mixing formula) may be carried in your hand luggage. You are allowed to bring a foldable stroller up to 10 kg to the gate. We place it in the hold. Your buggy is included in the 10 kg check-in luggage that you can take with you for your baby.\\n\\nHow many pieces of hand luggage can I take with me? One piece of hand luggage (max 55 x 35 x 25 cm), such as a backpack or a trolley. You place these in the overhead compartments on board. We have room for 70, so once the compartments are full, we collect the luggage when boarding and place it in the hold. If you have a MAX package, then your hand baggage is guaranteed to be allowed on board. One accessory (max 40 x 30 x 20 cm), such as a small handbag or a laptop bag. Your accessory is always allowed in the cabin and you place it under the seat in front of you. Passengers can also always bring an umbrella, a walking stick and one bag with duty free items on board without charge. Your hand luggage and accessory may weigh a maximum of 10 kg and the dimensions include wheels and handles. If you want to take more with you, you can also book hold luggage. Important: If your hand luggage and/or accessory are too big or too heavy, or if you have too many pieces, we will transport them in the hold. In this case, you will need to pay a surcharge at the airport.\\n\\nWhat luggage can I take with me on board? In order to limit contact during boarding and disembarkation, as well as movements in the cabin during the flight, we recommend that you limit your luggage carried on board to the bare minimum. You must stow your own luggage independently. In order to avoid having to get up during the flight in case you want to retrieve a personal item, where possible, put bags that fit in this space (40 cm x 30 cm x20 cm) under the seat in front of you. In order to make your journey easier, you can drop off the largest cabin luggage (maximum size: 55 cm x 35 cm x 25 cm) at the check-in counter free of charge.' metadata={'source': 'FAQ/hand_luggage.txt'}\n",
      "page_content=\"ALLOWED IN LUGGAGE\\n\\nCan I bring a drone? Yes, you can take your drone on board our flights. Please note the following rules: You can take your drone as hand luggage if it is no larger than 55 x 40 x 25 centimetres and no heavier than 10 kilos. If your drone uses lithium batteries, you must take the batteries with you in your accessory (your small hand luggage), even if you put the drone in your hold luggage. You may take a maximum of two batteries of up to 160 Wh each with you. Can I fly my drone anywhere? No, you can't fly your drone everywhere. If you do not follow the rules, there is a chance your drone will be seized at customs. And that would be a shame if you were planning on capturing beautiful images. There are also rules for flying your drone. These rules vary by country. Check these before flying your drone abroad. Good to know: drones are not allowed on flights to Morocco. If you take your drone to this destination, it will be seized. Bring extra batteries If you will be taking extra batteries, you are best packing them in the original packaging. If you don’t have that anymore, insulate the terminals with tape and pack the batteries separately in plastic bags.Batteries above 160 Wh are not allowed on the plane. You can read all about it in our FAQs about the rules for loose batteries.\\n\\nCan I bring an urn on board? We are very sorry for your loss. You can bring an urn on the plane, however there are a number of rules when traveling with an urn: * You can only take the urn in your hand luggage. Check how much hand luggage you can bring here. * The urn must be well packed so that other travellers cannot see that it is an urn. You must not open the urn on board. You are required to bring a death certificate and statement from the crematorium with you, stating that the ashes in the urn belong to the deceased. * The urn must not be made of metal. Spreading the ashes at the destination Do you want to scatter the ashes in a place that was important to you or where you experienced wonderful moments? The rules for scattering ashes vary from country to country. Before departure, make sure to check the rules that apply at your destination. Death certificate Keep the death certificate and statement from the crematorium handy at the airport, as you may need to present them at the security checkpoint.\\n\\nCan I bring food and drinks on the plane? You can take solid foods, such as sandwiches, salads and biscuits in your hand luggage. Liquid foods such as peanut butter, sauces and soup must be packed in containers of up to 100 millilitres and fit together in a transparent bag of up to 1 litre. Buy food and drinks after the security check If you buy (non-alcoholic) drinks after the security check, you can simply take them on the plane. Alcohol You are allowed to drink a beer, wine or other alcoholic beverage during the flight, but only if you buy it on board. You are not allowed to drink your own alcohol on board. Babyvoeding You can carry as much baby food in your hand luggage as your baby requires during the flight. You don't have to put the baby food in separate plastic bags. If you would like to bring boiled water to mix with milk powder, keep in mind to put it in bottles of up to 100 millilitres. Water counts as a liquid. Tip! We can heat up baby food on board. If you would like us to do that, please let our colleagues on the plane know. Do this on time because it can take a while to heat up baby food. We do this au-bain marie (that means: in a hot water bath). Carry liquids in your hold luggage The rules for liquids only apply to hand luggage. Your hold luggage may contain liquids in packages of more than 100 millilitres. Check our FAQs about liquids in your hold luggage for all the rules.\\n\\nCan I bring my sports weapon on my flight? Yes, you are permitted to bring a sporting weapon on your flight. However, some very strict conditions apply: Your sporting weapon may only be transported in the luggage hold. This requires an (additional) hold luggage booking. You must register your sporting weapon no less than 72 hours before departure, by phoning our Service Centre.\\n\\nCan I take an e-cigarette or vape on the plane? Yes, you can take your electronic cigarette or (disposable) vape. But please note! Due to safety on board, it is important that you carry your e-cigarette or vape with you during the flight. Therefore, put it in your accessory. You can always take this piece of hand luggage on board. You put your accessory under the seat in front of you on the plane. You are not allowed to use or charge your e-cigarette or vape during the flight. E-cigarette or vape in your hold luggage You are not allowed to take your e-cigarette or (disposable) vape in your hold luggage. You can only take these in your hand luggage. Liquids The same rules apply to e-liquids as to liquids. E-cigarettes and vapes are banned in some countries Did you know that e-cigarettes or vapes are banned in some countries? Always check that possession of an e-cigarette or vape is allowed in both the country of departure and the country of destination. Do this before departure, to avoid unpleasant surprises.\\n\\nCan I take bluetooth devices on the flight? Bluetooth devices like headphones, speakers, earpieces, keyboards, mice and other wireless devices can be taken in both your hand and hold luggage. You may use a Bluetooth device during the flight, but you must ensure it is switched off during takeoff and landing.\\n\\nCan you use electrical appliances with a lithium battery on board? Electrical devices with a lithium battery of up to 100 Wh, such as phones, tablets and e-readers, can be used throughout the entire flight as long as they are in ‘aeroplane mode’. Larger electrical devices with a lithium battery of up to 100 Wh, such as laptops, should be switched off during take-off and landing, and when the fasten seatbelts sign is on. You may bring the following devices with you, but never use them on board: electronic cigarettes; electronic cigarette chargers; devices that use a mobile network (without flight mode); personal air cleaners; toys with a remote control; televisions and transmitters; VHF scanners or receivers.\\n\\nWhat are the rules for carrying perfume and make-up in your hand luggage? Perfume and liquid make-up like lip gloss, eyeliner and nail polish are subject to the same rules as other liquids. You can carry these products in your hand luggage in containers that are no larger than 100 ml each. You can take a total of 1 litre of liquids with you. Perfumes larger than 100 ml Perfume in bottles larger than 100 ml must be placed in your hold luggage. Perfume bought in duty free after airport security may be carried in your hand luggage. Solid make-up Make-up that is solid or comes as a powder such as highlighter, blusher, eyeshadow and eyeliner pencils can always go in your hand luggage. Handy travel bottles If you want to take all your favourite toiletries in your hand luggage, consider using travel bottles. These bottles are transparent, refillable and available in sizes of max. 100 ml.\\n\\nWhat are the rules for liquids in your hand luggage? In your hand luggage, you may carry 1 litre of liquids in containers of 100 ml each. Put all containers in a transparent and resealable plastic bag. Liquids include toiletries such as perfume, shampoo, toothpaste, mascara and deodorant. What are liquids? In addition to the examples mentioned above, liquids include gels, creams, lotions, ointments, pastes and aerosols. Liquids also include water, soft drinks, juices, alcoholic beverages, syrup and soup. Containers larger than 100 ml Please note: containers larger than 100 ml are not allowed, even if they contain less than 100 ml of liquid. Liquids in containers over 100 ml bought after security are allowed on the plane. Babyvoeding There is an exception for baby food. It is not necessary to bring baby food in a clear plastic bag. You may bring as much liquid or ready-to-eat baby food as your baby needs for the flight. You may also carry up to 100 ml of boiled water in your hand luggage to mix with powdered milk. Liquid medication (e.g. insulin), medical baggage and special baggage Different rules apply for these. See the rules for \\u200b\\u200bmedicines on board, medical baggage and special baggage. Liquids in hold luggage Different rules apply to hold luggage.Read more about liquids in your hold luggage.\" metadata={'source': 'FAQ/allowed_in_luggage.txt'}\n",
      "page_content=\"HOLD LUGGAGE\\n\\nHow can I use the home luggage service? Are you flying from Amsterdam Schiphol Airport, Eindhoven Airport or Rotterdam The Hague Airport and do you live in the Netherlands (except for the Wadden Islands)? Then you can book a home luggage service. Your luggage will be collected, weighed, labelled and sealed by our partner Luggo up to 24 hours in advance. Your luggage goes onto the plane and will be ready for pick-up on the luggage carousel at your destination. Would you like more information? You can read more about this service on Luggo's website.\\n\\nHow do I book hold luggage? As long as you have not yet checked in (online or at the airport), you can book your hold luggage at a reduced rate via My Transavia. Did you end up taking more hold luggage than you booked? You can purchase extra hold luggage at the airport at a rate of € 15 per 5 kg.\\n\\nWhat are the fares for hold luggage? If you arrive at the airport with hold luggage that has not been booked and paid for beforehand, you can purchase a hold luggage allowance at the airport. Please find the fares for one-way flight below: - 15 kg: € 22 – € 45 (online) and € 45 (at the airport) - 20 kg: € 27 – € 50 (online) and € 60 (at the airport) - 25 kg: € 31 – € 63 (online) and € 75 (at the airport) - 30 kg: € 41 – € 75 (online) and € 90 (at the airport) - 40 kg: € 54 – € 90 (online) and € 120 (at the airport) - 50 kg: € 82 – € 110 (online) and € 150 (at the airport) * Fare depends on your route. The actual fare will be shown at the time of booking. For the Amsterdam-Beirut and Beirut-Amsterdam routes, you can book a maximum of 30 kg of hold luggage per person. Please note: different fares apply if you have booked a package holiday through a travel agency. You can request these from your travel agency.\\n\\nWhat are the rules for hold luggage? You can distribute your hold luggage among 5 pieces of luggage per person. Maximum total weight: 50 kg per passenger. Maximum weight per bag: 32 kg. *For the Amsterdam-Beirut and Beirut-Amsterdam routes, you can book a maximum of 30 kg of hold luggage per person. Book your hold luggage before you check in, at the airport or online. After you've checked in, you will no longer be able to change your booking. You may also take musical instruments and household appliances as hold luggage. You may take liquids and aerosol cans with you in your hold luggage, but make sure they do not fall under the category of prohibited items. Such items may never be taken with you in your luggage. If you have any queries about your luggage, please contact the Service Centre or the service desk at the airport. Are you travelling with a baby or a child? Read more about luggage allowances for babies and children. You can consult the list of prohibited objects by clicking here. Are you and your travelling companions on one booking? If so, you can also distribute the kilos of your hold luggage allowance among you. Make sure that you arrive at the check-in desk together to check your hold luggage.\" metadata={'source': 'FAQ/hold_luggage.txt'}\n",
      "page_content=\"Can I bring my bicycle with me? Yes, you can bring along your (folding) bicycle on the plane. However, a few different security measures apply when transporting your bicycle: Your bike must be packed in a fully closed bike case, bike box or bike cover. The bike and its pack combined can only weigh up to 23 kg and cannot exceed 300 cm in size (length + width + height). Due to the pressure on board, the tyres on your bike should be flat or almost flat. The pedals should be folded away or dismantled. The handlebar should be turned lengthwise. At Schiphol Airport, you can buy a bike box at the KLM desk. The measurements of this box are: 176.5 x 23 x 101.5 cm, and it weighs 4.5 kg. Please note that if you do not prepare your bicycle for travel in the correct way, we cannot take it with us. We do not accept electric bikes. Bicycle pump and gas cartridges You may bring a bicycle pump and gas (CO2) cartridges on board. Please report this during your booking, via My Transavia or via the Service Centre. The following terms and conditions also apply: The bicycle pump must not contain a cartridge. The bicycle pump and cartridges must be transported separately. Per person you are allowed to bring a maximum of 4 small gas cartridges with a maximum content of 50 ml. The gas cartridges may be carried either in the hand luggage or the hold luggage. Are you bringing gas cartridges in your hand luggage? Then the cartridges count as liquids. Bicycle fare €52 per flight\\n\\nCan I bring my diving gear with me? There are two options for taking diving gear: You take the diving gear in addition to your regular luggage. In this case, you pay the special rate for sports equipment, provided that the diving gear is packed separately. All you need to do is inform us about your diving gear when you book or afterwards via My Transavia or our Service Center. The rate is €42 per flight for diving gear weighing no more than 15 kg. If you exceed the maximum weight limit of 15 kg, the regular luggage rules apply. You take the diving gear inside your regular luggage. Standard fares for hold luggage apply, in addition to the following conditions: Scuba tanks are only accepted if there is enough space . So report your special luggage in a timely manner via My Transavia or our Service Center. Due to the pressure on board, scuba tanks must be completely empty. Harpoons and knives must be transported as hold luggage in a hard container or suitcase. If you would like to bring a harpoon with your diving equipment, please note that you are not permitted to take nitrogen-powered spear-guns. Would you like to bring a dive light with you? You can transport this in your hand luggage if you remove the lamp and the battery. The on/off button must be locked in the ‘off’ position. LED dive lights can only be transported if they are dismantled. Please note that you will not be able to dive within 24 hours of your departure because of decompression sickness (the bends)!\\n\\nFare for travelling with diving equipment €42 per single flight\\n\\nCan I bring my fishing gear with me? The maximum weight limit for your fishing sports equipment is 15 kg and it may consist of: 3 rods 1 pair of waders 1 tackle box Fare for fishing gear €42 per flight\\n\\nCan I bring my golf equipment with me? Your golf equipment may weigh up to 15 kg and consists of: 1 golf bag, including clubs 1 pair of golf shoes Fare for golf equipment €42 per single flight\\n\\nCan I bring my hang glider with me? Please note that the tubing of your hang glider should not be exceed 3.60 metres. If you pack the hang glider in a bag, you cannot put any other items in the bag, such as clothing. Your hang glider may not exceed 32 kg. Fare for a delta flyer €52 per flight\\n\\nCan I bring my musical instrument(s) with me? We don't want your instrument to be damaged during your flight. That is why we advise you to transport vulnerable instruments as hand luggage. Make sure that you check the conditions for transporting your instrument as hand luggage prior to departure. If you would prefer to transport your instrument as hold luggage, please pack your instrument in a hard case. We are not liable for any damage caused during transportation. Therefore, we are unfortunately unable to provide any compensation.\\n\\nCan I bring my scooter with me? Your scooter is considered as a standard checked baggage item* and is included at no extra charge in your baggage allowance if it is the only baggage that you want to check in Remember to place your scooter in a suitcase or adapted container (slipcover). Please note: for security reasons, scooters are not authorized in the cabin. They are considered dangerous as they may be sharp. They will be refused at security checkpoints, confiscated and destroyed. * Motorized and electric scooters are not permitted in your checked baggage.\\n\\nCan I bring my water sports equipment with me? The maximum weight limit for water sports equipment is 32 kg. You can bring a surfboard, waveboard, kitesurfing board or bodyboard with you. Mast and board should not be longer than 3.60 metres. Are you packing your water sports equipment in a bag? If so, you cannot put any other items, such as clothing, in this bag. Fare for water sports equipment €52 per flight\\n\\nCan I bring my wedding dress or bridal suit? Yes, that is allowed. There are various ways to take your wedding dress or bridal suit with you. In your hand luggage, hold luggage or by booking an extra seat. Good to know: we do not have separate space on board to hang your dress or suit. Take your wedding dress or wedding suit in your hand luggage If your wedding dress or bridal suit fits in a small suitcase, then you could carefully fold the dress or suit and take it with you in your hand luggage. Ask the bridal shop how best to fold the dress so that there is the least chance of creasing. Take your wedding dress or wedding suit in your hold luggage Not every dress fits in a small suitcase. In that case, it is better to book an (extra) piece of hold luggage. The advantage is that you do not have to fold your dress so small, which keeps the dress looking nice. Book an extra seat If you want to ensure that your wedding dress or suit arrives at your destination without creases, book an extra seat. Send wedding clothes to the destination If you don't you feel like taking your wedding clothes on the plane, send your wedding dress or suit to your wedding location. We recommend sending the package insured so that you can track the package. Hang up wedding clothes upon arrival When you arrive at your destination, hang up your dress or suit immediately. That prevents creases.\\n\\nCan I bring my winter sports equipment with me? If you are only taking ski boots with you, they can be transported in your hand luggage. Keep in mind the maximum weight and size limits for hand luggage . If you are taking winter sports equipment (skis, sled, snowboard, etc.) with you, we ask that you check in this luggage as early as possible because of baggage screening requirements. View the opening hours of the check-in desks. By checking in your bags early you ensure that all luggage and equipment are transported to the aircraft on time.\\n\\nThe maximum weight limit for your winter sports equipment is 15 kg and it may consist of:\\n\\n1 pair of skis, 1 pair of boots, 1 pair of poles, skiing helmet, or 1 snowboard with 1 pair of boots, skiing helmet, or 1 sled of maximum 120 x 50 x 40 cm, skiing helmet You can also take an avalanche airbag. This should be equipped with a pyrotechnic trigger mechanism (weighing less than 200 mg net in division 1.4 S and less than 250 ml of compressed gas in division 2.2). The rucksack must be packed in such as way to prevent any unintentional activation. The airbags in the rucksack should be equipped with pressure relief valves.\\n\\nFare for winter sports equipment €42 per flight\" metadata={'source': 'FAQ/special_luggage.txt'}\n"
     ]
    }
   ],
   "source": [
    "for doc in documents:\n",
    "    print(doc)"
   ]
  },
  {
   "cell_type": "code",
   "execution_count": 20,
   "id": "83db442d-5ae1-4ac0-8918-d9b2d1523aa9",
   "metadata": {},
   "outputs": [],
   "source": [
    "for doc in documents: \n",
    "    doc.metadata[\"name\"] = doc.metadata[\"source\"].split(\"/\")[1].replace(\"_\", \" \")[:-4].capitalize()"
   ]
  },
  {
   "cell_type": "code",
   "execution_count": 22,
   "id": "37f1eb70-f4d6-4bd4-864c-6d4f0b8388d7",
   "metadata": {},
   "outputs": [
    {
     "data": {
      "text/plain": [
       "{'source': 'FAQ/hand_luggage.txt', 'name': 'Hand luggage'}"
      ]
     },
     "execution_count": 22,
     "metadata": {},
     "output_type": "execute_result"
    }
   ],
   "source": [
    "test_doc.metadata"
   ]
  },
  {
   "cell_type": "markdown",
   "id": "39224c34-f4ba-4857-a814-f68b78b44066",
   "metadata": {},
   "source": [
    "# Chunking & Vectore Store Creation"
   ]
  },
  {
   "cell_type": "code",
   "execution_count": 23,
   "id": "00fc662b-e0d1-4371-81e1-3693727047af",
   "metadata": {},
   "outputs": [],
   "source": [
    "from langchain.embeddings import OpenAIEmbeddings\n",
    "from langchain.text_splitter import CharacterTextSplitter\n",
    "from langchain.vectorstores import FAISS"
   ]
  },
  {
   "cell_type": "code",
   "execution_count": 24,
   "id": "2ba396a4-e691-4cfe-8bdb-db2f35d44960",
   "metadata": {},
   "outputs": [
    {
     "name": "stderr",
     "output_type": "stream",
     "text": [
      "Created a chunk of size 841, which is longer than the specified 600\n",
      "Created a chunk of size 749, which is longer than the specified 600\n",
      "Created a chunk of size 1069, which is longer than the specified 600\n",
      "Created a chunk of size 1296, which is longer than the specified 600\n",
      "Created a chunk of size 1020, which is longer than the specified 600\n",
      "Created a chunk of size 1414, which is longer than the specified 600\n",
      "Created a chunk of size 1023, which is longer than the specified 600\n",
      "Created a chunk of size 717, which is longer than the specified 600\n",
      "Created a chunk of size 893, which is longer than the specified 600\n",
      "Created a chunk of size 920, which is longer than the specified 600\n",
      "Created a chunk of size 1473, which is longer than the specified 600\n",
      "Created a chunk of size 1490, which is longer than the specified 600\n",
      "Created a chunk of size 1388, which is longer than the specified 600\n"
     ]
    }
   ],
   "source": [
    "text_splitter = CharacterTextSplitter(chunk_size=600, chunk_overlap=100)\n",
    "texts = text_splitter.split_documents(documents)\n",
    "embeddings = OpenAIEmbeddings()\n",
    "db = FAISS.from_documents(texts, embeddings)"
   ]
  },
  {
   "cell_type": "markdown",
   "id": "a3f18bd6-f01d-406f-904b-4766e03e20b4",
   "metadata": {},
   "source": [
    "---"
   ]
  },
  {
   "cell_type": "markdown",
   "id": "c1e3a116-f6eb-4da7-9e6f-cc6f566bb1c9",
   "metadata": {},
   "source": [
    "# Retriever Tool"
   ]
  },
  {
   "cell_type": "code",
   "execution_count": 25,
   "id": "d927c1f0-fd71-404e-a35d-71ea6d524c5e",
   "metadata": {},
   "outputs": [],
   "source": [
    "from langchain.agents.agent_toolkits import create_retriever_tool"
   ]
  },
  {
   "cell_type": "code",
   "execution_count": 26,
   "id": "f002b8ca-8490-4627-9157-dc4d8a536813",
   "metadata": {},
   "outputs": [],
   "source": [
    "retriever = db.as_retriever()"
   ]
  },
  {
   "cell_type": "code",
   "execution_count": 27,
   "id": "45ad8a57-f882-48e9-841f-4752199aa160",
   "metadata": {},
   "outputs": [],
   "source": [
    "tool = create_retriever_tool(\n",
    "    retriever,\n",
    "    \"search_transavia_FAQ\",\n",
    "    \"Searches the Transavia company FAQ and returns documents regarding the company luggage policy\"\n",
    ")\n",
    "tools = [tool]"
   ]
  },
  {
   "cell_type": "code",
   "execution_count": 28,
   "id": "8238982d-a9ae-4cc4-8518-5f296dedf212",
   "metadata": {},
   "outputs": [
    {
     "data": {
      "text/plain": [
       "Tool(name='search_transavia_FAQ', description='Searches the Transavia company FAQ and returns documents regarding the company luggage policy', args_schema=<class 'langchain.tools.retriever.RetrieverInput'>, func=<bound method BaseRetriever.get_relevant_documents of VectorStoreRetriever(tags=['FAISS', 'OpenAIEmbeddings'], vectorstore=<langchain.vectorstores.faiss.FAISS object at 0x2b2396950>)>, coroutine=<bound method BaseRetriever.aget_relevant_documents of VectorStoreRetriever(tags=['FAISS', 'OpenAIEmbeddings'], vectorstore=<langchain.vectorstores.faiss.FAISS object at 0x2b2396950>)>)"
      ]
     },
     "execution_count": 28,
     "metadata": {},
     "output_type": "execute_result"
    }
   ],
   "source": [
    "tool"
   ]
  },
  {
   "cell_type": "markdown",
   "id": "620015d9-1988-457f-995f-0de66fa3a59f",
   "metadata": {},
   "source": [
    "---"
   ]
  },
  {
   "cell_type": "markdown",
   "id": "5ba15bc5-a5a6-4ff5-a2ff-4ef13fb49098",
   "metadata": {},
   "source": [
    "# Agent Constructor"
   ]
  },
  {
   "cell_type": "code",
   "execution_count": 29,
   "id": "20162263-e909-4492-b221-70e32ad36960",
   "metadata": {},
   "outputs": [],
   "source": [
    "from langchain.agents.agent_toolkits import create_conversational_retrieval_agent"
   ]
  },
  {
   "cell_type": "code",
   "execution_count": 30,
   "id": "151818ae-d137-4d2d-9e38-dc22d595c16a",
   "metadata": {},
   "outputs": [],
   "source": [
    "from langchain.chat_models import ChatOpenAI\n",
    "llm = ChatOpenAI(temperature=0)"
   ]
  },
  {
   "cell_type": "code",
   "execution_count": 31,
   "id": "9080b76d-7e65-4df1-976c-a7feedc3bc56",
   "metadata": {},
   "outputs": [],
   "source": [
    "agent_executor = create_conversational_retrieval_agent(\n",
    "    llm, \n",
    "    tools,\n",
    "    verbose=False\n",
    ")"
   ]
  },
  {
   "cell_type": "markdown",
   "id": "89d0e065-b092-4808-947a-af51980f6e54",
   "metadata": {},
   "source": [
    "---"
   ]
  },
  {
   "cell_type": "markdown",
   "id": "45216e7c-af4f-4d27-a22d-9885800702e9",
   "metadata": {},
   "source": [
    "# Test the Agent"
   ]
  },
  {
   "cell_type": "code",
   "execution_count": 32,
   "id": "dee7cf56-eb82-49bf-a333-e1309cabe785",
   "metadata": {},
   "outputs": [
    {
     "data": {
      "text/plain": [
       "'Hello Bob! How can I assist you today?'"
      ]
     },
     "execution_count": 32,
     "metadata": {},
     "output_type": "execute_result"
    }
   ],
   "source": [
    "agent_executor({\"input\": \"Hi, I'm Bob\"})[\"output\"]"
   ]
  },
  {
   "cell_type": "code",
   "execution_count": 33,
   "id": "4575a0c6-fb8a-4928-988a-fbf2fce1eb4b",
   "metadata": {},
   "outputs": [
    {
     "ename": "RateLimitError",
     "evalue": "Error code: 429 - {'error': {'message': 'Rate limit reached for gpt-3.5-turbo in organization org-KTalvhb4vzoBFuJF2A18k1TT on requests per min (RPM): Limit 3, Used 3, Requested 1. Please try again in 20s. Visit https://platform.openai.com/account/rate-limits to learn more. You can increase your rate limit by adding a payment method to your account at https://platform.openai.com/account/billing.', 'type': 'requests', 'param': None, 'code': 'rate_limit_exceeded'}}",
     "output_type": "error",
     "traceback": [
      "\u001b[0;31m---------------------------------------------------------------------------\u001b[0m",
      "\u001b[0;31mRateLimitError\u001b[0m                            Traceback (most recent call last)",
      "Cell \u001b[0;32mIn[33], line 1\u001b[0m\n\u001b[0;32m----> 1\u001b[0m \u001b[43magent_executor\u001b[49m\u001b[43m(\u001b[49m\u001b[43m{\u001b[49m\u001b[38;5;124;43m\"\u001b[39;49m\u001b[38;5;124;43minput\u001b[39;49m\u001b[38;5;124;43m\"\u001b[39;49m\u001b[43m:\u001b[49m\u001b[43m \u001b[49m\u001b[38;5;124;43m\"\u001b[39;49m\u001b[38;5;124;43mPlease provide a bulletpoint list of the items I\u001b[39;49m\u001b[38;5;124;43m'\u001b[39;49m\u001b[38;5;124;43mm allowed to bring in my luggage\u001b[39;49m\u001b[38;5;124;43m\"\u001b[39;49m\u001b[43m}\u001b[49m\u001b[43m)\u001b[49m[\u001b[38;5;124m\"\u001b[39m\u001b[38;5;124moutput\u001b[39m\u001b[38;5;124m\"\u001b[39m]\n",
      "File \u001b[0;32m~/anaconda3/envs/chatbot-py3.10/lib/python3.10/site-packages/langchain/chains/base.py:310\u001b[0m, in \u001b[0;36mChain.__call__\u001b[0;34m(self, inputs, return_only_outputs, callbacks, tags, metadata, run_name, include_run_info)\u001b[0m\n\u001b[1;32m    308\u001b[0m \u001b[38;5;28;01mexcept\u001b[39;00m \u001b[38;5;167;01mBaseException\u001b[39;00m \u001b[38;5;28;01mas\u001b[39;00m e:\n\u001b[1;32m    309\u001b[0m     run_manager\u001b[38;5;241m.\u001b[39mon_chain_error(e)\n\u001b[0;32m--> 310\u001b[0m     \u001b[38;5;28;01mraise\u001b[39;00m e\n\u001b[1;32m    311\u001b[0m run_manager\u001b[38;5;241m.\u001b[39mon_chain_end(outputs)\n\u001b[1;32m    312\u001b[0m final_outputs: Dict[\u001b[38;5;28mstr\u001b[39m, Any] \u001b[38;5;241m=\u001b[39m \u001b[38;5;28mself\u001b[39m\u001b[38;5;241m.\u001b[39mprep_outputs(\n\u001b[1;32m    313\u001b[0m     inputs, outputs, return_only_outputs\n\u001b[1;32m    314\u001b[0m )\n",
      "File \u001b[0;32m~/anaconda3/envs/chatbot-py3.10/lib/python3.10/site-packages/langchain/chains/base.py:304\u001b[0m, in \u001b[0;36mChain.__call__\u001b[0;34m(self, inputs, return_only_outputs, callbacks, tags, metadata, run_name, include_run_info)\u001b[0m\n\u001b[1;32m    297\u001b[0m run_manager \u001b[38;5;241m=\u001b[39m callback_manager\u001b[38;5;241m.\u001b[39mon_chain_start(\n\u001b[1;32m    298\u001b[0m     dumpd(\u001b[38;5;28mself\u001b[39m),\n\u001b[1;32m    299\u001b[0m     inputs,\n\u001b[1;32m    300\u001b[0m     name\u001b[38;5;241m=\u001b[39mrun_name,\n\u001b[1;32m    301\u001b[0m )\n\u001b[1;32m    302\u001b[0m \u001b[38;5;28;01mtry\u001b[39;00m:\n\u001b[1;32m    303\u001b[0m     outputs \u001b[38;5;241m=\u001b[39m (\n\u001b[0;32m--> 304\u001b[0m         \u001b[38;5;28;43mself\u001b[39;49m\u001b[38;5;241;43m.\u001b[39;49m\u001b[43m_call\u001b[49m\u001b[43m(\u001b[49m\u001b[43minputs\u001b[49m\u001b[43m,\u001b[49m\u001b[43m \u001b[49m\u001b[43mrun_manager\u001b[49m\u001b[38;5;241;43m=\u001b[39;49m\u001b[43mrun_manager\u001b[49m\u001b[43m)\u001b[49m\n\u001b[1;32m    305\u001b[0m         \u001b[38;5;28;01mif\u001b[39;00m new_arg_supported\n\u001b[1;32m    306\u001b[0m         \u001b[38;5;28;01melse\u001b[39;00m \u001b[38;5;28mself\u001b[39m\u001b[38;5;241m.\u001b[39m_call(inputs)\n\u001b[1;32m    307\u001b[0m     )\n\u001b[1;32m    308\u001b[0m \u001b[38;5;28;01mexcept\u001b[39;00m \u001b[38;5;167;01mBaseException\u001b[39;00m \u001b[38;5;28;01mas\u001b[39;00m e:\n\u001b[1;32m    309\u001b[0m     run_manager\u001b[38;5;241m.\u001b[39mon_chain_error(e)\n",
      "File \u001b[0;32m~/anaconda3/envs/chatbot-py3.10/lib/python3.10/site-packages/langchain/agents/agent.py:1245\u001b[0m, in \u001b[0;36mAgentExecutor._call\u001b[0;34m(self, inputs, run_manager)\u001b[0m\n\u001b[1;32m   1243\u001b[0m \u001b[38;5;66;03m# We now enter the agent loop (until it returns something).\u001b[39;00m\n\u001b[1;32m   1244\u001b[0m \u001b[38;5;28;01mwhile\u001b[39;00m \u001b[38;5;28mself\u001b[39m\u001b[38;5;241m.\u001b[39m_should_continue(iterations, time_elapsed):\n\u001b[0;32m-> 1245\u001b[0m     next_step_output \u001b[38;5;241m=\u001b[39m \u001b[38;5;28;43mself\u001b[39;49m\u001b[38;5;241;43m.\u001b[39;49m\u001b[43m_take_next_step\u001b[49m\u001b[43m(\u001b[49m\n\u001b[1;32m   1246\u001b[0m \u001b[43m        \u001b[49m\u001b[43mname_to_tool_map\u001b[49m\u001b[43m,\u001b[49m\n\u001b[1;32m   1247\u001b[0m \u001b[43m        \u001b[49m\u001b[43mcolor_mapping\u001b[49m\u001b[43m,\u001b[49m\n\u001b[1;32m   1248\u001b[0m \u001b[43m        \u001b[49m\u001b[43minputs\u001b[49m\u001b[43m,\u001b[49m\n\u001b[1;32m   1249\u001b[0m \u001b[43m        \u001b[49m\u001b[43mintermediate_steps\u001b[49m\u001b[43m,\u001b[49m\n\u001b[1;32m   1250\u001b[0m \u001b[43m        \u001b[49m\u001b[43mrun_manager\u001b[49m\u001b[38;5;241;43m=\u001b[39;49m\u001b[43mrun_manager\u001b[49m\u001b[43m,\u001b[49m\n\u001b[1;32m   1251\u001b[0m \u001b[43m    \u001b[49m\u001b[43m)\u001b[49m\n\u001b[1;32m   1252\u001b[0m     \u001b[38;5;28;01mif\u001b[39;00m \u001b[38;5;28misinstance\u001b[39m(next_step_output, AgentFinish):\n\u001b[1;32m   1253\u001b[0m         \u001b[38;5;28;01mreturn\u001b[39;00m \u001b[38;5;28mself\u001b[39m\u001b[38;5;241m.\u001b[39m_return(\n\u001b[1;32m   1254\u001b[0m             next_step_output, intermediate_steps, run_manager\u001b[38;5;241m=\u001b[39mrun_manager\n\u001b[1;32m   1255\u001b[0m         )\n",
      "File \u001b[0;32m~/anaconda3/envs/chatbot-py3.10/lib/python3.10/site-packages/langchain/agents/agent.py:1032\u001b[0m, in \u001b[0;36mAgentExecutor._take_next_step\u001b[0;34m(self, name_to_tool_map, color_mapping, inputs, intermediate_steps, run_manager)\u001b[0m\n\u001b[1;32m   1029\u001b[0m     intermediate_steps \u001b[38;5;241m=\u001b[39m \u001b[38;5;28mself\u001b[39m\u001b[38;5;241m.\u001b[39m_prepare_intermediate_steps(intermediate_steps)\n\u001b[1;32m   1031\u001b[0m     \u001b[38;5;66;03m# Call the LLM to see what to do.\u001b[39;00m\n\u001b[0;32m-> 1032\u001b[0m     output \u001b[38;5;241m=\u001b[39m \u001b[38;5;28;43mself\u001b[39;49m\u001b[38;5;241;43m.\u001b[39;49m\u001b[43magent\u001b[49m\u001b[38;5;241;43m.\u001b[39;49m\u001b[43mplan\u001b[49m\u001b[43m(\u001b[49m\n\u001b[1;32m   1033\u001b[0m \u001b[43m        \u001b[49m\u001b[43mintermediate_steps\u001b[49m\u001b[43m,\u001b[49m\n\u001b[1;32m   1034\u001b[0m \u001b[43m        \u001b[49m\u001b[43mcallbacks\u001b[49m\u001b[38;5;241;43m=\u001b[39;49m\u001b[43mrun_manager\u001b[49m\u001b[38;5;241;43m.\u001b[39;49m\u001b[43mget_child\u001b[49m\u001b[43m(\u001b[49m\u001b[43m)\u001b[49m\u001b[43m \u001b[49m\u001b[38;5;28;43;01mif\u001b[39;49;00m\u001b[43m \u001b[49m\u001b[43mrun_manager\u001b[49m\u001b[43m \u001b[49m\u001b[38;5;28;43;01melse\u001b[39;49;00m\u001b[43m \u001b[49m\u001b[38;5;28;43;01mNone\u001b[39;49;00m\u001b[43m,\u001b[49m\n\u001b[1;32m   1035\u001b[0m \u001b[43m        \u001b[49m\u001b[38;5;241;43m*\u001b[39;49m\u001b[38;5;241;43m*\u001b[39;49m\u001b[43minputs\u001b[49m\u001b[43m,\u001b[49m\n\u001b[1;32m   1036\u001b[0m \u001b[43m    \u001b[49m\u001b[43m)\u001b[49m\n\u001b[1;32m   1037\u001b[0m \u001b[38;5;28;01mexcept\u001b[39;00m OutputParserException \u001b[38;5;28;01mas\u001b[39;00m e:\n\u001b[1;32m   1038\u001b[0m     \u001b[38;5;28;01mif\u001b[39;00m \u001b[38;5;28misinstance\u001b[39m(\u001b[38;5;28mself\u001b[39m\u001b[38;5;241m.\u001b[39mhandle_parsing_errors, \u001b[38;5;28mbool\u001b[39m):\n",
      "File \u001b[0;32m~/anaconda3/envs/chatbot-py3.10/lib/python3.10/site-packages/langchain/agents/openai_functions_agent/base.py:104\u001b[0m, in \u001b[0;36mOpenAIFunctionsAgent.plan\u001b[0;34m(self, intermediate_steps, callbacks, with_functions, **kwargs)\u001b[0m\n\u001b[1;32m    102\u001b[0m messages \u001b[38;5;241m=\u001b[39m prompt\u001b[38;5;241m.\u001b[39mto_messages()\n\u001b[1;32m    103\u001b[0m \u001b[38;5;28;01mif\u001b[39;00m with_functions:\n\u001b[0;32m--> 104\u001b[0m     predicted_message \u001b[38;5;241m=\u001b[39m \u001b[38;5;28;43mself\u001b[39;49m\u001b[38;5;241;43m.\u001b[39;49m\u001b[43mllm\u001b[49m\u001b[38;5;241;43m.\u001b[39;49m\u001b[43mpredict_messages\u001b[49m\u001b[43m(\u001b[49m\n\u001b[1;32m    105\u001b[0m \u001b[43m        \u001b[49m\u001b[43mmessages\u001b[49m\u001b[43m,\u001b[49m\n\u001b[1;32m    106\u001b[0m \u001b[43m        \u001b[49m\u001b[43mfunctions\u001b[49m\u001b[38;5;241;43m=\u001b[39;49m\u001b[38;5;28;43mself\u001b[39;49m\u001b[38;5;241;43m.\u001b[39;49m\u001b[43mfunctions\u001b[49m\u001b[43m,\u001b[49m\n\u001b[1;32m    107\u001b[0m \u001b[43m        \u001b[49m\u001b[43mcallbacks\u001b[49m\u001b[38;5;241;43m=\u001b[39;49m\u001b[43mcallbacks\u001b[49m\u001b[43m,\u001b[49m\n\u001b[1;32m    108\u001b[0m \u001b[43m    \u001b[49m\u001b[43m)\u001b[49m\n\u001b[1;32m    109\u001b[0m \u001b[38;5;28;01melse\u001b[39;00m:\n\u001b[1;32m    110\u001b[0m     predicted_message \u001b[38;5;241m=\u001b[39m \u001b[38;5;28mself\u001b[39m\u001b[38;5;241m.\u001b[39mllm\u001b[38;5;241m.\u001b[39mpredict_messages(\n\u001b[1;32m    111\u001b[0m         messages,\n\u001b[1;32m    112\u001b[0m         callbacks\u001b[38;5;241m=\u001b[39mcallbacks,\n\u001b[1;32m    113\u001b[0m     )\n",
      "File \u001b[0;32m~/anaconda3/envs/chatbot-py3.10/lib/python3.10/site-packages/langchain/chat_models/base.py:653\u001b[0m, in \u001b[0;36mBaseChatModel.predict_messages\u001b[0;34m(self, messages, stop, **kwargs)\u001b[0m\n\u001b[1;32m    651\u001b[0m \u001b[38;5;28;01melse\u001b[39;00m:\n\u001b[1;32m    652\u001b[0m     _stop \u001b[38;5;241m=\u001b[39m \u001b[38;5;28mlist\u001b[39m(stop)\n\u001b[0;32m--> 653\u001b[0m \u001b[38;5;28;01mreturn\u001b[39;00m \u001b[38;5;28;43mself\u001b[39;49m\u001b[43m(\u001b[49m\u001b[43mmessages\u001b[49m\u001b[43m,\u001b[49m\u001b[43m \u001b[49m\u001b[43mstop\u001b[49m\u001b[38;5;241;43m=\u001b[39;49m\u001b[43m_stop\u001b[49m\u001b[43m,\u001b[49m\u001b[43m \u001b[49m\u001b[38;5;241;43m*\u001b[39;49m\u001b[38;5;241;43m*\u001b[39;49m\u001b[43mkwargs\u001b[49m\u001b[43m)\u001b[49m\n",
      "File \u001b[0;32m~/anaconda3/envs/chatbot-py3.10/lib/python3.10/site-packages/langchain/chat_models/base.py:600\u001b[0m, in \u001b[0;36mBaseChatModel.__call__\u001b[0;34m(self, messages, stop, callbacks, **kwargs)\u001b[0m\n\u001b[1;32m    593\u001b[0m \u001b[38;5;28;01mdef\u001b[39;00m \u001b[38;5;21m__call__\u001b[39m(\n\u001b[1;32m    594\u001b[0m     \u001b[38;5;28mself\u001b[39m,\n\u001b[1;32m    595\u001b[0m     messages: List[BaseMessage],\n\u001b[0;32m   (...)\u001b[0m\n\u001b[1;32m    598\u001b[0m     \u001b[38;5;241m*\u001b[39m\u001b[38;5;241m*\u001b[39mkwargs: Any,\n\u001b[1;32m    599\u001b[0m ) \u001b[38;5;241m-\u001b[39m\u001b[38;5;241m>\u001b[39m BaseMessage:\n\u001b[0;32m--> 600\u001b[0m     generation \u001b[38;5;241m=\u001b[39m \u001b[38;5;28;43mself\u001b[39;49m\u001b[38;5;241;43m.\u001b[39;49m\u001b[43mgenerate\u001b[49m\u001b[43m(\u001b[49m\n\u001b[1;32m    601\u001b[0m \u001b[43m        \u001b[49m\u001b[43m[\u001b[49m\u001b[43mmessages\u001b[49m\u001b[43m]\u001b[49m\u001b[43m,\u001b[49m\u001b[43m \u001b[49m\u001b[43mstop\u001b[49m\u001b[38;5;241;43m=\u001b[39;49m\u001b[43mstop\u001b[49m\u001b[43m,\u001b[49m\u001b[43m \u001b[49m\u001b[43mcallbacks\u001b[49m\u001b[38;5;241;43m=\u001b[39;49m\u001b[43mcallbacks\u001b[49m\u001b[43m,\u001b[49m\u001b[43m \u001b[49m\u001b[38;5;241;43m*\u001b[39;49m\u001b[38;5;241;43m*\u001b[39;49m\u001b[43mkwargs\u001b[49m\n\u001b[1;32m    602\u001b[0m \u001b[43m    \u001b[49m\u001b[43m)\u001b[49m\u001b[38;5;241m.\u001b[39mgenerations[\u001b[38;5;241m0\u001b[39m][\u001b[38;5;241m0\u001b[39m]\n\u001b[1;32m    603\u001b[0m     \u001b[38;5;28;01mif\u001b[39;00m \u001b[38;5;28misinstance\u001b[39m(generation, ChatGeneration):\n\u001b[1;32m    604\u001b[0m         \u001b[38;5;28;01mreturn\u001b[39;00m generation\u001b[38;5;241m.\u001b[39mmessage\n",
      "File \u001b[0;32m~/anaconda3/envs/chatbot-py3.10/lib/python3.10/site-packages/langchain/chat_models/base.py:349\u001b[0m, in \u001b[0;36mBaseChatModel.generate\u001b[0;34m(self, messages, stop, callbacks, tags, metadata, run_name, **kwargs)\u001b[0m\n\u001b[1;32m    347\u001b[0m         \u001b[38;5;28;01mif\u001b[39;00m run_managers:\n\u001b[1;32m    348\u001b[0m             run_managers[i]\u001b[38;5;241m.\u001b[39mon_llm_error(e)\n\u001b[0;32m--> 349\u001b[0m         \u001b[38;5;28;01mraise\u001b[39;00m e\n\u001b[1;32m    350\u001b[0m flattened_outputs \u001b[38;5;241m=\u001b[39m [\n\u001b[1;32m    351\u001b[0m     LLMResult(generations\u001b[38;5;241m=\u001b[39m[res\u001b[38;5;241m.\u001b[39mgenerations], llm_output\u001b[38;5;241m=\u001b[39mres\u001b[38;5;241m.\u001b[39mllm_output)\n\u001b[1;32m    352\u001b[0m     \u001b[38;5;28;01mfor\u001b[39;00m res \u001b[38;5;129;01min\u001b[39;00m results\n\u001b[1;32m    353\u001b[0m ]\n\u001b[1;32m    354\u001b[0m llm_output \u001b[38;5;241m=\u001b[39m \u001b[38;5;28mself\u001b[39m\u001b[38;5;241m.\u001b[39m_combine_llm_outputs([res\u001b[38;5;241m.\u001b[39mllm_output \u001b[38;5;28;01mfor\u001b[39;00m res \u001b[38;5;129;01min\u001b[39;00m results])\n",
      "File \u001b[0;32m~/anaconda3/envs/chatbot-py3.10/lib/python3.10/site-packages/langchain/chat_models/base.py:339\u001b[0m, in \u001b[0;36mBaseChatModel.generate\u001b[0;34m(self, messages, stop, callbacks, tags, metadata, run_name, **kwargs)\u001b[0m\n\u001b[1;32m    336\u001b[0m \u001b[38;5;28;01mfor\u001b[39;00m i, m \u001b[38;5;129;01min\u001b[39;00m \u001b[38;5;28menumerate\u001b[39m(messages):\n\u001b[1;32m    337\u001b[0m     \u001b[38;5;28;01mtry\u001b[39;00m:\n\u001b[1;32m    338\u001b[0m         results\u001b[38;5;241m.\u001b[39mappend(\n\u001b[0;32m--> 339\u001b[0m             \u001b[38;5;28;43mself\u001b[39;49m\u001b[38;5;241;43m.\u001b[39;49m\u001b[43m_generate_with_cache\u001b[49m\u001b[43m(\u001b[49m\n\u001b[1;32m    340\u001b[0m \u001b[43m                \u001b[49m\u001b[43mm\u001b[49m\u001b[43m,\u001b[49m\n\u001b[1;32m    341\u001b[0m \u001b[43m                \u001b[49m\u001b[43mstop\u001b[49m\u001b[38;5;241;43m=\u001b[39;49m\u001b[43mstop\u001b[49m\u001b[43m,\u001b[49m\n\u001b[1;32m    342\u001b[0m \u001b[43m                \u001b[49m\u001b[43mrun_manager\u001b[49m\u001b[38;5;241;43m=\u001b[39;49m\u001b[43mrun_managers\u001b[49m\u001b[43m[\u001b[49m\u001b[43mi\u001b[49m\u001b[43m]\u001b[49m\u001b[43m \u001b[49m\u001b[38;5;28;43;01mif\u001b[39;49;00m\u001b[43m \u001b[49m\u001b[43mrun_managers\u001b[49m\u001b[43m \u001b[49m\u001b[38;5;28;43;01melse\u001b[39;49;00m\u001b[43m \u001b[49m\u001b[38;5;28;43;01mNone\u001b[39;49;00m\u001b[43m,\u001b[49m\n\u001b[1;32m    343\u001b[0m \u001b[43m                \u001b[49m\u001b[38;5;241;43m*\u001b[39;49m\u001b[38;5;241;43m*\u001b[39;49m\u001b[43mkwargs\u001b[49m\u001b[43m,\u001b[49m\n\u001b[1;32m    344\u001b[0m \u001b[43m            \u001b[49m\u001b[43m)\u001b[49m\n\u001b[1;32m    345\u001b[0m         )\n\u001b[1;32m    346\u001b[0m     \u001b[38;5;28;01mexcept\u001b[39;00m \u001b[38;5;167;01mBaseException\u001b[39;00m \u001b[38;5;28;01mas\u001b[39;00m e:\n\u001b[1;32m    347\u001b[0m         \u001b[38;5;28;01mif\u001b[39;00m run_managers:\n",
      "File \u001b[0;32m~/anaconda3/envs/chatbot-py3.10/lib/python3.10/site-packages/langchain/chat_models/base.py:492\u001b[0m, in \u001b[0;36mBaseChatModel._generate_with_cache\u001b[0;34m(self, messages, stop, run_manager, **kwargs)\u001b[0m\n\u001b[1;32m    488\u001b[0m     \u001b[38;5;28;01mraise\u001b[39;00m \u001b[38;5;167;01mValueError\u001b[39;00m(\n\u001b[1;32m    489\u001b[0m         \u001b[38;5;124m\"\u001b[39m\u001b[38;5;124mAsked to cache, but no cache found at `langchain.cache`.\u001b[39m\u001b[38;5;124m\"\u001b[39m\n\u001b[1;32m    490\u001b[0m     )\n\u001b[1;32m    491\u001b[0m \u001b[38;5;28;01mif\u001b[39;00m new_arg_supported:\n\u001b[0;32m--> 492\u001b[0m     \u001b[38;5;28;01mreturn\u001b[39;00m \u001b[38;5;28;43mself\u001b[39;49m\u001b[38;5;241;43m.\u001b[39;49m\u001b[43m_generate\u001b[49m\u001b[43m(\u001b[49m\n\u001b[1;32m    493\u001b[0m \u001b[43m        \u001b[49m\u001b[43mmessages\u001b[49m\u001b[43m,\u001b[49m\u001b[43m \u001b[49m\u001b[43mstop\u001b[49m\u001b[38;5;241;43m=\u001b[39;49m\u001b[43mstop\u001b[49m\u001b[43m,\u001b[49m\u001b[43m \u001b[49m\u001b[43mrun_manager\u001b[49m\u001b[38;5;241;43m=\u001b[39;49m\u001b[43mrun_manager\u001b[49m\u001b[43m,\u001b[49m\u001b[43m \u001b[49m\u001b[38;5;241;43m*\u001b[39;49m\u001b[38;5;241;43m*\u001b[39;49m\u001b[43mkwargs\u001b[49m\n\u001b[1;32m    494\u001b[0m \u001b[43m    \u001b[49m\u001b[43m)\u001b[49m\n\u001b[1;32m    495\u001b[0m \u001b[38;5;28;01melse\u001b[39;00m:\n\u001b[1;32m    496\u001b[0m     \u001b[38;5;28;01mreturn\u001b[39;00m \u001b[38;5;28mself\u001b[39m\u001b[38;5;241m.\u001b[39m_generate(messages, stop\u001b[38;5;241m=\u001b[39mstop, \u001b[38;5;241m*\u001b[39m\u001b[38;5;241m*\u001b[39mkwargs)\n",
      "File \u001b[0;32m~/anaconda3/envs/chatbot-py3.10/lib/python3.10/site-packages/langchain/chat_models/openai.py:422\u001b[0m, in \u001b[0;36mChatOpenAI._generate\u001b[0;34m(self, messages, stop, run_manager, stream, **kwargs)\u001b[0m\n\u001b[1;32m    420\u001b[0m message_dicts, params \u001b[38;5;241m=\u001b[39m \u001b[38;5;28mself\u001b[39m\u001b[38;5;241m.\u001b[39m_create_message_dicts(messages, stop)\n\u001b[1;32m    421\u001b[0m params \u001b[38;5;241m=\u001b[39m {\u001b[38;5;241m*\u001b[39m\u001b[38;5;241m*\u001b[39mparams, \u001b[38;5;241m*\u001b[39m\u001b[38;5;241m*\u001b[39mkwargs}\n\u001b[0;32m--> 422\u001b[0m response \u001b[38;5;241m=\u001b[39m \u001b[38;5;28;43mself\u001b[39;49m\u001b[38;5;241;43m.\u001b[39;49m\u001b[43mcompletion_with_retry\u001b[49m\u001b[43m(\u001b[49m\n\u001b[1;32m    423\u001b[0m \u001b[43m    \u001b[49m\u001b[43mmessages\u001b[49m\u001b[38;5;241;43m=\u001b[39;49m\u001b[43mmessage_dicts\u001b[49m\u001b[43m,\u001b[49m\u001b[43m \u001b[49m\u001b[43mrun_manager\u001b[49m\u001b[38;5;241;43m=\u001b[39;49m\u001b[43mrun_manager\u001b[49m\u001b[43m,\u001b[49m\u001b[43m \u001b[49m\u001b[38;5;241;43m*\u001b[39;49m\u001b[38;5;241;43m*\u001b[39;49m\u001b[43mparams\u001b[49m\n\u001b[1;32m    424\u001b[0m \u001b[43m\u001b[49m\u001b[43m)\u001b[49m\n\u001b[1;32m    425\u001b[0m \u001b[38;5;28;01mreturn\u001b[39;00m \u001b[38;5;28mself\u001b[39m\u001b[38;5;241m.\u001b[39m_create_chat_result(response)\n",
      "File \u001b[0;32m~/anaconda3/envs/chatbot-py3.10/lib/python3.10/site-packages/langchain/chat_models/openai.py:344\u001b[0m, in \u001b[0;36mChatOpenAI.completion_with_retry\u001b[0;34m(self, run_manager, **kwargs)\u001b[0m\n\u001b[1;32m    342\u001b[0m \u001b[38;5;250m\u001b[39m\u001b[38;5;124;03m\"\"\"Use tenacity to retry the completion call.\"\"\"\u001b[39;00m\n\u001b[1;32m    343\u001b[0m \u001b[38;5;28;01mif\u001b[39;00m is_openai_v1():\n\u001b[0;32m--> 344\u001b[0m     \u001b[38;5;28;01mreturn\u001b[39;00m \u001b[38;5;28;43mself\u001b[39;49m\u001b[38;5;241;43m.\u001b[39;49m\u001b[43mclient\u001b[49m\u001b[38;5;241;43m.\u001b[39;49m\u001b[43mcreate\u001b[49m\u001b[43m(\u001b[49m\u001b[38;5;241;43m*\u001b[39;49m\u001b[38;5;241;43m*\u001b[39;49m\u001b[43mkwargs\u001b[49m\u001b[43m)\u001b[49m\n\u001b[1;32m    346\u001b[0m retry_decorator \u001b[38;5;241m=\u001b[39m _create_retry_decorator(\u001b[38;5;28mself\u001b[39m, run_manager\u001b[38;5;241m=\u001b[39mrun_manager)\n\u001b[1;32m    348\u001b[0m \u001b[38;5;129m@retry_decorator\u001b[39m\n\u001b[1;32m    349\u001b[0m \u001b[38;5;28;01mdef\u001b[39;00m \u001b[38;5;21m_completion_with_retry\u001b[39m(\u001b[38;5;241m*\u001b[39m\u001b[38;5;241m*\u001b[39mkwargs: Any) \u001b[38;5;241m-\u001b[39m\u001b[38;5;241m>\u001b[39m Any:\n",
      "File \u001b[0;32m~/anaconda3/envs/chatbot-py3.10/lib/python3.10/site-packages/openai/_utils/_utils.py:299\u001b[0m, in \u001b[0;36mrequired_args.<locals>.inner.<locals>.wrapper\u001b[0;34m(*args, **kwargs)\u001b[0m\n\u001b[1;32m    297\u001b[0m             msg \u001b[38;5;241m=\u001b[39m \u001b[38;5;124mf\u001b[39m\u001b[38;5;124m\"\u001b[39m\u001b[38;5;124mMissing required argument: \u001b[39m\u001b[38;5;132;01m{\u001b[39;00mquote(missing[\u001b[38;5;241m0\u001b[39m])\u001b[38;5;132;01m}\u001b[39;00m\u001b[38;5;124m\"\u001b[39m\n\u001b[1;32m    298\u001b[0m     \u001b[38;5;28;01mraise\u001b[39;00m \u001b[38;5;167;01mTypeError\u001b[39;00m(msg)\n\u001b[0;32m--> 299\u001b[0m \u001b[38;5;28;01mreturn\u001b[39;00m \u001b[43mfunc\u001b[49m\u001b[43m(\u001b[49m\u001b[38;5;241;43m*\u001b[39;49m\u001b[43margs\u001b[49m\u001b[43m,\u001b[49m\u001b[43m \u001b[49m\u001b[38;5;241;43m*\u001b[39;49m\u001b[38;5;241;43m*\u001b[39;49m\u001b[43mkwargs\u001b[49m\u001b[43m)\u001b[49m\n",
      "File \u001b[0;32m~/anaconda3/envs/chatbot-py3.10/lib/python3.10/site-packages/openai/resources/chat/completions.py:598\u001b[0m, in \u001b[0;36mCompletions.create\u001b[0;34m(self, messages, model, frequency_penalty, function_call, functions, logit_bias, max_tokens, n, presence_penalty, response_format, seed, stop, stream, temperature, tool_choice, tools, top_p, user, extra_headers, extra_query, extra_body, timeout)\u001b[0m\n\u001b[1;32m    551\u001b[0m \u001b[38;5;129m@required_args\u001b[39m([\u001b[38;5;124m\"\u001b[39m\u001b[38;5;124mmessages\u001b[39m\u001b[38;5;124m\"\u001b[39m, \u001b[38;5;124m\"\u001b[39m\u001b[38;5;124mmodel\u001b[39m\u001b[38;5;124m\"\u001b[39m], [\u001b[38;5;124m\"\u001b[39m\u001b[38;5;124mmessages\u001b[39m\u001b[38;5;124m\"\u001b[39m, \u001b[38;5;124m\"\u001b[39m\u001b[38;5;124mmodel\u001b[39m\u001b[38;5;124m\"\u001b[39m, \u001b[38;5;124m\"\u001b[39m\u001b[38;5;124mstream\u001b[39m\u001b[38;5;124m\"\u001b[39m])\n\u001b[1;32m    552\u001b[0m \u001b[38;5;28;01mdef\u001b[39;00m \u001b[38;5;21mcreate\u001b[39m(\n\u001b[1;32m    553\u001b[0m     \u001b[38;5;28mself\u001b[39m,\n\u001b[0;32m   (...)\u001b[0m\n\u001b[1;32m    596\u001b[0m     timeout: \u001b[38;5;28mfloat\u001b[39m \u001b[38;5;241m|\u001b[39m httpx\u001b[38;5;241m.\u001b[39mTimeout \u001b[38;5;241m|\u001b[39m \u001b[38;5;28;01mNone\u001b[39;00m \u001b[38;5;241m|\u001b[39m NotGiven \u001b[38;5;241m=\u001b[39m NOT_GIVEN,\n\u001b[1;32m    597\u001b[0m ) \u001b[38;5;241m-\u001b[39m\u001b[38;5;241m>\u001b[39m ChatCompletion \u001b[38;5;241m|\u001b[39m Stream[ChatCompletionChunk]:\n\u001b[0;32m--> 598\u001b[0m     \u001b[38;5;28;01mreturn\u001b[39;00m \u001b[38;5;28;43mself\u001b[39;49m\u001b[38;5;241;43m.\u001b[39;49m\u001b[43m_post\u001b[49m\u001b[43m(\u001b[49m\n\u001b[1;32m    599\u001b[0m \u001b[43m        \u001b[49m\u001b[38;5;124;43m\"\u001b[39;49m\u001b[38;5;124;43m/chat/completions\u001b[39;49m\u001b[38;5;124;43m\"\u001b[39;49m\u001b[43m,\u001b[49m\n\u001b[1;32m    600\u001b[0m \u001b[43m        \u001b[49m\u001b[43mbody\u001b[49m\u001b[38;5;241;43m=\u001b[39;49m\u001b[43mmaybe_transform\u001b[49m\u001b[43m(\u001b[49m\n\u001b[1;32m    601\u001b[0m \u001b[43m            \u001b[49m\u001b[43m{\u001b[49m\n\u001b[1;32m    602\u001b[0m \u001b[43m                \u001b[49m\u001b[38;5;124;43m\"\u001b[39;49m\u001b[38;5;124;43mmessages\u001b[39;49m\u001b[38;5;124;43m\"\u001b[39;49m\u001b[43m:\u001b[49m\u001b[43m \u001b[49m\u001b[43mmessages\u001b[49m\u001b[43m,\u001b[49m\n\u001b[1;32m    603\u001b[0m \u001b[43m                \u001b[49m\u001b[38;5;124;43m\"\u001b[39;49m\u001b[38;5;124;43mmodel\u001b[39;49m\u001b[38;5;124;43m\"\u001b[39;49m\u001b[43m:\u001b[49m\u001b[43m \u001b[49m\u001b[43mmodel\u001b[49m\u001b[43m,\u001b[49m\n\u001b[1;32m    604\u001b[0m \u001b[43m                \u001b[49m\u001b[38;5;124;43m\"\u001b[39;49m\u001b[38;5;124;43mfrequency_penalty\u001b[39;49m\u001b[38;5;124;43m\"\u001b[39;49m\u001b[43m:\u001b[49m\u001b[43m \u001b[49m\u001b[43mfrequency_penalty\u001b[49m\u001b[43m,\u001b[49m\n\u001b[1;32m    605\u001b[0m \u001b[43m                \u001b[49m\u001b[38;5;124;43m\"\u001b[39;49m\u001b[38;5;124;43mfunction_call\u001b[39;49m\u001b[38;5;124;43m\"\u001b[39;49m\u001b[43m:\u001b[49m\u001b[43m \u001b[49m\u001b[43mfunction_call\u001b[49m\u001b[43m,\u001b[49m\n\u001b[1;32m    606\u001b[0m \u001b[43m                \u001b[49m\u001b[38;5;124;43m\"\u001b[39;49m\u001b[38;5;124;43mfunctions\u001b[39;49m\u001b[38;5;124;43m\"\u001b[39;49m\u001b[43m:\u001b[49m\u001b[43m \u001b[49m\u001b[43mfunctions\u001b[49m\u001b[43m,\u001b[49m\n\u001b[1;32m    607\u001b[0m \u001b[43m                \u001b[49m\u001b[38;5;124;43m\"\u001b[39;49m\u001b[38;5;124;43mlogit_bias\u001b[39;49m\u001b[38;5;124;43m\"\u001b[39;49m\u001b[43m:\u001b[49m\u001b[43m \u001b[49m\u001b[43mlogit_bias\u001b[49m\u001b[43m,\u001b[49m\n\u001b[1;32m    608\u001b[0m \u001b[43m                \u001b[49m\u001b[38;5;124;43m\"\u001b[39;49m\u001b[38;5;124;43mmax_tokens\u001b[39;49m\u001b[38;5;124;43m\"\u001b[39;49m\u001b[43m:\u001b[49m\u001b[43m \u001b[49m\u001b[43mmax_tokens\u001b[49m\u001b[43m,\u001b[49m\n\u001b[1;32m    609\u001b[0m \u001b[43m                \u001b[49m\u001b[38;5;124;43m\"\u001b[39;49m\u001b[38;5;124;43mn\u001b[39;49m\u001b[38;5;124;43m\"\u001b[39;49m\u001b[43m:\u001b[49m\u001b[43m \u001b[49m\u001b[43mn\u001b[49m\u001b[43m,\u001b[49m\n\u001b[1;32m    610\u001b[0m \u001b[43m                \u001b[49m\u001b[38;5;124;43m\"\u001b[39;49m\u001b[38;5;124;43mpresence_penalty\u001b[39;49m\u001b[38;5;124;43m\"\u001b[39;49m\u001b[43m:\u001b[49m\u001b[43m \u001b[49m\u001b[43mpresence_penalty\u001b[49m\u001b[43m,\u001b[49m\n\u001b[1;32m    611\u001b[0m \u001b[43m                \u001b[49m\u001b[38;5;124;43m\"\u001b[39;49m\u001b[38;5;124;43mresponse_format\u001b[39;49m\u001b[38;5;124;43m\"\u001b[39;49m\u001b[43m:\u001b[49m\u001b[43m \u001b[49m\u001b[43mresponse_format\u001b[49m\u001b[43m,\u001b[49m\n\u001b[1;32m    612\u001b[0m \u001b[43m                \u001b[49m\u001b[38;5;124;43m\"\u001b[39;49m\u001b[38;5;124;43mseed\u001b[39;49m\u001b[38;5;124;43m\"\u001b[39;49m\u001b[43m:\u001b[49m\u001b[43m \u001b[49m\u001b[43mseed\u001b[49m\u001b[43m,\u001b[49m\n\u001b[1;32m    613\u001b[0m \u001b[43m                \u001b[49m\u001b[38;5;124;43m\"\u001b[39;49m\u001b[38;5;124;43mstop\u001b[39;49m\u001b[38;5;124;43m\"\u001b[39;49m\u001b[43m:\u001b[49m\u001b[43m \u001b[49m\u001b[43mstop\u001b[49m\u001b[43m,\u001b[49m\n\u001b[1;32m    614\u001b[0m \u001b[43m                \u001b[49m\u001b[38;5;124;43m\"\u001b[39;49m\u001b[38;5;124;43mstream\u001b[39;49m\u001b[38;5;124;43m\"\u001b[39;49m\u001b[43m:\u001b[49m\u001b[43m \u001b[49m\u001b[43mstream\u001b[49m\u001b[43m,\u001b[49m\n\u001b[1;32m    615\u001b[0m \u001b[43m                \u001b[49m\u001b[38;5;124;43m\"\u001b[39;49m\u001b[38;5;124;43mtemperature\u001b[39;49m\u001b[38;5;124;43m\"\u001b[39;49m\u001b[43m:\u001b[49m\u001b[43m \u001b[49m\u001b[43mtemperature\u001b[49m\u001b[43m,\u001b[49m\n\u001b[1;32m    616\u001b[0m \u001b[43m                \u001b[49m\u001b[38;5;124;43m\"\u001b[39;49m\u001b[38;5;124;43mtool_choice\u001b[39;49m\u001b[38;5;124;43m\"\u001b[39;49m\u001b[43m:\u001b[49m\u001b[43m \u001b[49m\u001b[43mtool_choice\u001b[49m\u001b[43m,\u001b[49m\n\u001b[1;32m    617\u001b[0m \u001b[43m                \u001b[49m\u001b[38;5;124;43m\"\u001b[39;49m\u001b[38;5;124;43mtools\u001b[39;49m\u001b[38;5;124;43m\"\u001b[39;49m\u001b[43m:\u001b[49m\u001b[43m \u001b[49m\u001b[43mtools\u001b[49m\u001b[43m,\u001b[49m\n\u001b[1;32m    618\u001b[0m \u001b[43m                \u001b[49m\u001b[38;5;124;43m\"\u001b[39;49m\u001b[38;5;124;43mtop_p\u001b[39;49m\u001b[38;5;124;43m\"\u001b[39;49m\u001b[43m:\u001b[49m\u001b[43m \u001b[49m\u001b[43mtop_p\u001b[49m\u001b[43m,\u001b[49m\n\u001b[1;32m    619\u001b[0m \u001b[43m                \u001b[49m\u001b[38;5;124;43m\"\u001b[39;49m\u001b[38;5;124;43muser\u001b[39;49m\u001b[38;5;124;43m\"\u001b[39;49m\u001b[43m:\u001b[49m\u001b[43m \u001b[49m\u001b[43muser\u001b[49m\u001b[43m,\u001b[49m\n\u001b[1;32m    620\u001b[0m \u001b[43m            \u001b[49m\u001b[43m}\u001b[49m\u001b[43m,\u001b[49m\n\u001b[1;32m    621\u001b[0m \u001b[43m            \u001b[49m\u001b[43mcompletion_create_params\u001b[49m\u001b[38;5;241;43m.\u001b[39;49m\u001b[43mCompletionCreateParams\u001b[49m\u001b[43m,\u001b[49m\n\u001b[1;32m    622\u001b[0m \u001b[43m        \u001b[49m\u001b[43m)\u001b[49m\u001b[43m,\u001b[49m\n\u001b[1;32m    623\u001b[0m \u001b[43m        \u001b[49m\u001b[43moptions\u001b[49m\u001b[38;5;241;43m=\u001b[39;49m\u001b[43mmake_request_options\u001b[49m\u001b[43m(\u001b[49m\n\u001b[1;32m    624\u001b[0m \u001b[43m            \u001b[49m\u001b[43mextra_headers\u001b[49m\u001b[38;5;241;43m=\u001b[39;49m\u001b[43mextra_headers\u001b[49m\u001b[43m,\u001b[49m\u001b[43m \u001b[49m\u001b[43mextra_query\u001b[49m\u001b[38;5;241;43m=\u001b[39;49m\u001b[43mextra_query\u001b[49m\u001b[43m,\u001b[49m\u001b[43m \u001b[49m\u001b[43mextra_body\u001b[49m\u001b[38;5;241;43m=\u001b[39;49m\u001b[43mextra_body\u001b[49m\u001b[43m,\u001b[49m\u001b[43m \u001b[49m\u001b[43mtimeout\u001b[49m\u001b[38;5;241;43m=\u001b[39;49m\u001b[43mtimeout\u001b[49m\n\u001b[1;32m    625\u001b[0m \u001b[43m        \u001b[49m\u001b[43m)\u001b[49m\u001b[43m,\u001b[49m\n\u001b[1;32m    626\u001b[0m \u001b[43m        \u001b[49m\u001b[43mcast_to\u001b[49m\u001b[38;5;241;43m=\u001b[39;49m\u001b[43mChatCompletion\u001b[49m\u001b[43m,\u001b[49m\n\u001b[1;32m    627\u001b[0m \u001b[43m        \u001b[49m\u001b[43mstream\u001b[49m\u001b[38;5;241;43m=\u001b[39;49m\u001b[43mstream\u001b[49m\u001b[43m \u001b[49m\u001b[38;5;129;43;01mor\u001b[39;49;00m\u001b[43m \u001b[49m\u001b[38;5;28;43;01mFalse\u001b[39;49;00m\u001b[43m,\u001b[49m\n\u001b[1;32m    628\u001b[0m \u001b[43m        \u001b[49m\u001b[43mstream_cls\u001b[49m\u001b[38;5;241;43m=\u001b[39;49m\u001b[43mStream\u001b[49m\u001b[43m[\u001b[49m\u001b[43mChatCompletionChunk\u001b[49m\u001b[43m]\u001b[49m\u001b[43m,\u001b[49m\n\u001b[1;32m    629\u001b[0m \u001b[43m    \u001b[49m\u001b[43m)\u001b[49m\n",
      "File \u001b[0;32m~/anaconda3/envs/chatbot-py3.10/lib/python3.10/site-packages/openai/_base_client.py:1063\u001b[0m, in \u001b[0;36mSyncAPIClient.post\u001b[0;34m(self, path, cast_to, body, options, files, stream, stream_cls)\u001b[0m\n\u001b[1;32m   1049\u001b[0m \u001b[38;5;28;01mdef\u001b[39;00m \u001b[38;5;21mpost\u001b[39m(\n\u001b[1;32m   1050\u001b[0m     \u001b[38;5;28mself\u001b[39m,\n\u001b[1;32m   1051\u001b[0m     path: \u001b[38;5;28mstr\u001b[39m,\n\u001b[0;32m   (...)\u001b[0m\n\u001b[1;32m   1058\u001b[0m     stream_cls: \u001b[38;5;28mtype\u001b[39m[_StreamT] \u001b[38;5;241m|\u001b[39m \u001b[38;5;28;01mNone\u001b[39;00m \u001b[38;5;241m=\u001b[39m \u001b[38;5;28;01mNone\u001b[39;00m,\n\u001b[1;32m   1059\u001b[0m ) \u001b[38;5;241m-\u001b[39m\u001b[38;5;241m>\u001b[39m ResponseT \u001b[38;5;241m|\u001b[39m _StreamT:\n\u001b[1;32m   1060\u001b[0m     opts \u001b[38;5;241m=\u001b[39m FinalRequestOptions\u001b[38;5;241m.\u001b[39mconstruct(\n\u001b[1;32m   1061\u001b[0m         method\u001b[38;5;241m=\u001b[39m\u001b[38;5;124m\"\u001b[39m\u001b[38;5;124mpost\u001b[39m\u001b[38;5;124m\"\u001b[39m, url\u001b[38;5;241m=\u001b[39mpath, json_data\u001b[38;5;241m=\u001b[39mbody, files\u001b[38;5;241m=\u001b[39mto_httpx_files(files), \u001b[38;5;241m*\u001b[39m\u001b[38;5;241m*\u001b[39moptions\n\u001b[1;32m   1062\u001b[0m     )\n\u001b[0;32m-> 1063\u001b[0m     \u001b[38;5;28;01mreturn\u001b[39;00m cast(ResponseT, \u001b[38;5;28;43mself\u001b[39;49m\u001b[38;5;241;43m.\u001b[39;49m\u001b[43mrequest\u001b[49m\u001b[43m(\u001b[49m\u001b[43mcast_to\u001b[49m\u001b[43m,\u001b[49m\u001b[43m \u001b[49m\u001b[43mopts\u001b[49m\u001b[43m,\u001b[49m\u001b[43m \u001b[49m\u001b[43mstream\u001b[49m\u001b[38;5;241;43m=\u001b[39;49m\u001b[43mstream\u001b[49m\u001b[43m,\u001b[49m\u001b[43m \u001b[49m\u001b[43mstream_cls\u001b[49m\u001b[38;5;241;43m=\u001b[39;49m\u001b[43mstream_cls\u001b[49m\u001b[43m)\u001b[49m)\n",
      "File \u001b[0;32m~/anaconda3/envs/chatbot-py3.10/lib/python3.10/site-packages/openai/_base_client.py:842\u001b[0m, in \u001b[0;36mSyncAPIClient.request\u001b[0;34m(self, cast_to, options, remaining_retries, stream, stream_cls)\u001b[0m\n\u001b[1;32m    833\u001b[0m \u001b[38;5;28;01mdef\u001b[39;00m \u001b[38;5;21mrequest\u001b[39m(\n\u001b[1;32m    834\u001b[0m     \u001b[38;5;28mself\u001b[39m,\n\u001b[1;32m    835\u001b[0m     cast_to: Type[ResponseT],\n\u001b[0;32m   (...)\u001b[0m\n\u001b[1;32m    840\u001b[0m     stream_cls: \u001b[38;5;28mtype\u001b[39m[_StreamT] \u001b[38;5;241m|\u001b[39m \u001b[38;5;28;01mNone\u001b[39;00m \u001b[38;5;241m=\u001b[39m \u001b[38;5;28;01mNone\u001b[39;00m,\n\u001b[1;32m    841\u001b[0m ) \u001b[38;5;241m-\u001b[39m\u001b[38;5;241m>\u001b[39m ResponseT \u001b[38;5;241m|\u001b[39m _StreamT:\n\u001b[0;32m--> 842\u001b[0m     \u001b[38;5;28;01mreturn\u001b[39;00m \u001b[38;5;28;43mself\u001b[39;49m\u001b[38;5;241;43m.\u001b[39;49m\u001b[43m_request\u001b[49m\u001b[43m(\u001b[49m\n\u001b[1;32m    843\u001b[0m \u001b[43m        \u001b[49m\u001b[43mcast_to\u001b[49m\u001b[38;5;241;43m=\u001b[39;49m\u001b[43mcast_to\u001b[49m\u001b[43m,\u001b[49m\n\u001b[1;32m    844\u001b[0m \u001b[43m        \u001b[49m\u001b[43moptions\u001b[49m\u001b[38;5;241;43m=\u001b[39;49m\u001b[43moptions\u001b[49m\u001b[43m,\u001b[49m\n\u001b[1;32m    845\u001b[0m \u001b[43m        \u001b[49m\u001b[43mstream\u001b[49m\u001b[38;5;241;43m=\u001b[39;49m\u001b[43mstream\u001b[49m\u001b[43m,\u001b[49m\n\u001b[1;32m    846\u001b[0m \u001b[43m        \u001b[49m\u001b[43mstream_cls\u001b[49m\u001b[38;5;241;43m=\u001b[39;49m\u001b[43mstream_cls\u001b[49m\u001b[43m,\u001b[49m\n\u001b[1;32m    847\u001b[0m \u001b[43m        \u001b[49m\u001b[43mremaining_retries\u001b[49m\u001b[38;5;241;43m=\u001b[39;49m\u001b[43mremaining_retries\u001b[49m\u001b[43m,\u001b[49m\n\u001b[1;32m    848\u001b[0m \u001b[43m    \u001b[49m\u001b[43m)\u001b[49m\n",
      "File \u001b[0;32m~/anaconda3/envs/chatbot-py3.10/lib/python3.10/site-packages/openai/_base_client.py:873\u001b[0m, in \u001b[0;36mSyncAPIClient._request\u001b[0;34m(self, cast_to, options, remaining_retries, stream, stream_cls)\u001b[0m\n\u001b[1;32m    871\u001b[0m \u001b[38;5;28;01mexcept\u001b[39;00m httpx\u001b[38;5;241m.\u001b[39mHTTPStatusError \u001b[38;5;28;01mas\u001b[39;00m err:  \u001b[38;5;66;03m# thrown on 4xx and 5xx status code\u001b[39;00m\n\u001b[1;32m    872\u001b[0m     \u001b[38;5;28;01mif\u001b[39;00m retries \u001b[38;5;241m>\u001b[39m \u001b[38;5;241m0\u001b[39m \u001b[38;5;129;01mand\u001b[39;00m \u001b[38;5;28mself\u001b[39m\u001b[38;5;241m.\u001b[39m_should_retry(err\u001b[38;5;241m.\u001b[39mresponse):\n\u001b[0;32m--> 873\u001b[0m         \u001b[38;5;28;01mreturn\u001b[39;00m \u001b[38;5;28;43mself\u001b[39;49m\u001b[38;5;241;43m.\u001b[39;49m\u001b[43m_retry_request\u001b[49m\u001b[43m(\u001b[49m\n\u001b[1;32m    874\u001b[0m \u001b[43m            \u001b[49m\u001b[43moptions\u001b[49m\u001b[43m,\u001b[49m\n\u001b[1;32m    875\u001b[0m \u001b[43m            \u001b[49m\u001b[43mcast_to\u001b[49m\u001b[43m,\u001b[49m\n\u001b[1;32m    876\u001b[0m \u001b[43m            \u001b[49m\u001b[43mretries\u001b[49m\u001b[43m,\u001b[49m\n\u001b[1;32m    877\u001b[0m \u001b[43m            \u001b[49m\u001b[43merr\u001b[49m\u001b[38;5;241;43m.\u001b[39;49m\u001b[43mresponse\u001b[49m\u001b[38;5;241;43m.\u001b[39;49m\u001b[43mheaders\u001b[49m\u001b[43m,\u001b[49m\n\u001b[1;32m    878\u001b[0m \u001b[43m            \u001b[49m\u001b[43mstream\u001b[49m\u001b[38;5;241;43m=\u001b[39;49m\u001b[43mstream\u001b[49m\u001b[43m,\u001b[49m\n\u001b[1;32m    879\u001b[0m \u001b[43m            \u001b[49m\u001b[43mstream_cls\u001b[49m\u001b[38;5;241;43m=\u001b[39;49m\u001b[43mstream_cls\u001b[49m\u001b[43m,\u001b[49m\n\u001b[1;32m    880\u001b[0m \u001b[43m        \u001b[49m\u001b[43m)\u001b[49m\n\u001b[1;32m    882\u001b[0m     \u001b[38;5;66;03m# If the response is streamed then we need to explicitly read the response\u001b[39;00m\n\u001b[1;32m    883\u001b[0m     \u001b[38;5;66;03m# to completion before attempting to access the response text.\u001b[39;00m\n\u001b[1;32m    884\u001b[0m     err\u001b[38;5;241m.\u001b[39mresponse\u001b[38;5;241m.\u001b[39mread()\n",
      "File \u001b[0;32m~/anaconda3/envs/chatbot-py3.10/lib/python3.10/site-packages/openai/_base_client.py:933\u001b[0m, in \u001b[0;36mSyncAPIClient._retry_request\u001b[0;34m(self, options, cast_to, remaining_retries, response_headers, stream, stream_cls)\u001b[0m\n\u001b[1;32m    929\u001b[0m \u001b[38;5;66;03m# In a synchronous context we are blocking the entire thread. Up to the library user to run the client in a\u001b[39;00m\n\u001b[1;32m    930\u001b[0m \u001b[38;5;66;03m# different thread if necessary.\u001b[39;00m\n\u001b[1;32m    931\u001b[0m time\u001b[38;5;241m.\u001b[39msleep(timeout)\n\u001b[0;32m--> 933\u001b[0m \u001b[38;5;28;01mreturn\u001b[39;00m \u001b[38;5;28;43mself\u001b[39;49m\u001b[38;5;241;43m.\u001b[39;49m\u001b[43m_request\u001b[49m\u001b[43m(\u001b[49m\n\u001b[1;32m    934\u001b[0m \u001b[43m    \u001b[49m\u001b[43moptions\u001b[49m\u001b[38;5;241;43m=\u001b[39;49m\u001b[43moptions\u001b[49m\u001b[43m,\u001b[49m\n\u001b[1;32m    935\u001b[0m \u001b[43m    \u001b[49m\u001b[43mcast_to\u001b[49m\u001b[38;5;241;43m=\u001b[39;49m\u001b[43mcast_to\u001b[49m\u001b[43m,\u001b[49m\n\u001b[1;32m    936\u001b[0m \u001b[43m    \u001b[49m\u001b[43mremaining_retries\u001b[49m\u001b[38;5;241;43m=\u001b[39;49m\u001b[43mremaining\u001b[49m\u001b[43m,\u001b[49m\n\u001b[1;32m    937\u001b[0m \u001b[43m    \u001b[49m\u001b[43mstream\u001b[49m\u001b[38;5;241;43m=\u001b[39;49m\u001b[43mstream\u001b[49m\u001b[43m,\u001b[49m\n\u001b[1;32m    938\u001b[0m \u001b[43m    \u001b[49m\u001b[43mstream_cls\u001b[49m\u001b[38;5;241;43m=\u001b[39;49m\u001b[43mstream_cls\u001b[49m\u001b[43m,\u001b[49m\n\u001b[1;32m    939\u001b[0m \u001b[43m\u001b[49m\u001b[43m)\u001b[49m\n",
      "File \u001b[0;32m~/anaconda3/envs/chatbot-py3.10/lib/python3.10/site-packages/openai/_base_client.py:873\u001b[0m, in \u001b[0;36mSyncAPIClient._request\u001b[0;34m(self, cast_to, options, remaining_retries, stream, stream_cls)\u001b[0m\n\u001b[1;32m    871\u001b[0m \u001b[38;5;28;01mexcept\u001b[39;00m httpx\u001b[38;5;241m.\u001b[39mHTTPStatusError \u001b[38;5;28;01mas\u001b[39;00m err:  \u001b[38;5;66;03m# thrown on 4xx and 5xx status code\u001b[39;00m\n\u001b[1;32m    872\u001b[0m     \u001b[38;5;28;01mif\u001b[39;00m retries \u001b[38;5;241m>\u001b[39m \u001b[38;5;241m0\u001b[39m \u001b[38;5;129;01mand\u001b[39;00m \u001b[38;5;28mself\u001b[39m\u001b[38;5;241m.\u001b[39m_should_retry(err\u001b[38;5;241m.\u001b[39mresponse):\n\u001b[0;32m--> 873\u001b[0m         \u001b[38;5;28;01mreturn\u001b[39;00m \u001b[38;5;28;43mself\u001b[39;49m\u001b[38;5;241;43m.\u001b[39;49m\u001b[43m_retry_request\u001b[49m\u001b[43m(\u001b[49m\n\u001b[1;32m    874\u001b[0m \u001b[43m            \u001b[49m\u001b[43moptions\u001b[49m\u001b[43m,\u001b[49m\n\u001b[1;32m    875\u001b[0m \u001b[43m            \u001b[49m\u001b[43mcast_to\u001b[49m\u001b[43m,\u001b[49m\n\u001b[1;32m    876\u001b[0m \u001b[43m            \u001b[49m\u001b[43mretries\u001b[49m\u001b[43m,\u001b[49m\n\u001b[1;32m    877\u001b[0m \u001b[43m            \u001b[49m\u001b[43merr\u001b[49m\u001b[38;5;241;43m.\u001b[39;49m\u001b[43mresponse\u001b[49m\u001b[38;5;241;43m.\u001b[39;49m\u001b[43mheaders\u001b[49m\u001b[43m,\u001b[49m\n\u001b[1;32m    878\u001b[0m \u001b[43m            \u001b[49m\u001b[43mstream\u001b[49m\u001b[38;5;241;43m=\u001b[39;49m\u001b[43mstream\u001b[49m\u001b[43m,\u001b[49m\n\u001b[1;32m    879\u001b[0m \u001b[43m            \u001b[49m\u001b[43mstream_cls\u001b[49m\u001b[38;5;241;43m=\u001b[39;49m\u001b[43mstream_cls\u001b[49m\u001b[43m,\u001b[49m\n\u001b[1;32m    880\u001b[0m \u001b[43m        \u001b[49m\u001b[43m)\u001b[49m\n\u001b[1;32m    882\u001b[0m     \u001b[38;5;66;03m# If the response is streamed then we need to explicitly read the response\u001b[39;00m\n\u001b[1;32m    883\u001b[0m     \u001b[38;5;66;03m# to completion before attempting to access the response text.\u001b[39;00m\n\u001b[1;32m    884\u001b[0m     err\u001b[38;5;241m.\u001b[39mresponse\u001b[38;5;241m.\u001b[39mread()\n",
      "File \u001b[0;32m~/anaconda3/envs/chatbot-py3.10/lib/python3.10/site-packages/openai/_base_client.py:933\u001b[0m, in \u001b[0;36mSyncAPIClient._retry_request\u001b[0;34m(self, options, cast_to, remaining_retries, response_headers, stream, stream_cls)\u001b[0m\n\u001b[1;32m    929\u001b[0m \u001b[38;5;66;03m# In a synchronous context we are blocking the entire thread. Up to the library user to run the client in a\u001b[39;00m\n\u001b[1;32m    930\u001b[0m \u001b[38;5;66;03m# different thread if necessary.\u001b[39;00m\n\u001b[1;32m    931\u001b[0m time\u001b[38;5;241m.\u001b[39msleep(timeout)\n\u001b[0;32m--> 933\u001b[0m \u001b[38;5;28;01mreturn\u001b[39;00m \u001b[38;5;28;43mself\u001b[39;49m\u001b[38;5;241;43m.\u001b[39;49m\u001b[43m_request\u001b[49m\u001b[43m(\u001b[49m\n\u001b[1;32m    934\u001b[0m \u001b[43m    \u001b[49m\u001b[43moptions\u001b[49m\u001b[38;5;241;43m=\u001b[39;49m\u001b[43moptions\u001b[49m\u001b[43m,\u001b[49m\n\u001b[1;32m    935\u001b[0m \u001b[43m    \u001b[49m\u001b[43mcast_to\u001b[49m\u001b[38;5;241;43m=\u001b[39;49m\u001b[43mcast_to\u001b[49m\u001b[43m,\u001b[49m\n\u001b[1;32m    936\u001b[0m \u001b[43m    \u001b[49m\u001b[43mremaining_retries\u001b[49m\u001b[38;5;241;43m=\u001b[39;49m\u001b[43mremaining\u001b[49m\u001b[43m,\u001b[49m\n\u001b[1;32m    937\u001b[0m \u001b[43m    \u001b[49m\u001b[43mstream\u001b[49m\u001b[38;5;241;43m=\u001b[39;49m\u001b[43mstream\u001b[49m\u001b[43m,\u001b[49m\n\u001b[1;32m    938\u001b[0m \u001b[43m    \u001b[49m\u001b[43mstream_cls\u001b[49m\u001b[38;5;241;43m=\u001b[39;49m\u001b[43mstream_cls\u001b[49m\u001b[43m,\u001b[49m\n\u001b[1;32m    939\u001b[0m \u001b[43m\u001b[49m\u001b[43m)\u001b[49m\n",
      "File \u001b[0;32m~/anaconda3/envs/chatbot-py3.10/lib/python3.10/site-packages/openai/_base_client.py:885\u001b[0m, in \u001b[0;36mSyncAPIClient._request\u001b[0;34m(self, cast_to, options, remaining_retries, stream, stream_cls)\u001b[0m\n\u001b[1;32m    882\u001b[0m     \u001b[38;5;66;03m# If the response is streamed then we need to explicitly read the response\u001b[39;00m\n\u001b[1;32m    883\u001b[0m     \u001b[38;5;66;03m# to completion before attempting to access the response text.\u001b[39;00m\n\u001b[1;32m    884\u001b[0m     err\u001b[38;5;241m.\u001b[39mresponse\u001b[38;5;241m.\u001b[39mread()\n\u001b[0;32m--> 885\u001b[0m     \u001b[38;5;28;01mraise\u001b[39;00m \u001b[38;5;28mself\u001b[39m\u001b[38;5;241m.\u001b[39m_make_status_error_from_response(err\u001b[38;5;241m.\u001b[39mresponse) \u001b[38;5;28;01mfrom\u001b[39;00m \u001b[38;5;28;01mNone\u001b[39;00m\n\u001b[1;32m    886\u001b[0m \u001b[38;5;28;01mexcept\u001b[39;00m httpx\u001b[38;5;241m.\u001b[39mTimeoutException \u001b[38;5;28;01mas\u001b[39;00m err:\n\u001b[1;32m    887\u001b[0m     \u001b[38;5;28;01mif\u001b[39;00m retries \u001b[38;5;241m>\u001b[39m \u001b[38;5;241m0\u001b[39m:\n",
      "\u001b[0;31mRateLimitError\u001b[0m: Error code: 429 - {'error': {'message': 'Rate limit reached for gpt-3.5-turbo in organization org-KTalvhb4vzoBFuJF2A18k1TT on requests per min (RPM): Limit 3, Used 3, Requested 1. Please try again in 20s. Visit https://platform.openai.com/account/rate-limits to learn more. You can increase your rate limit by adding a payment method to your account at https://platform.openai.com/account/billing.', 'type': 'requests', 'param': None, 'code': 'rate_limit_exceeded'}}"
     ]
    }
   ],
   "source": [
    "agent_executor({\"input\": \"Please provide a bulletpoint list of the items I'm allowed to bring in my luggage\"})[\"output\"]"
   ]
  },
  {
   "cell_type": "code",
   "execution_count": 46,
   "id": "cf1a1d42-d8ba-442f-b9b2-6e03e2524dd8",
   "metadata": {},
   "outputs": [
    {
     "name": "stdout",
     "output_type": "stream",
     "text": [
      "\n",
      "\n",
      "\u001b[1m> Entering new AgentExecutor chain...\u001b[0m\n",
      "\u001b[32;1m\u001b[1;3mYour name is Bob.\u001b[0m\n",
      "\n",
      "\u001b[1m> Finished chain.\u001b[0m\n"
     ]
    },
    {
     "data": {
      "text/plain": [
       "{'input': 'What s my name ?',\n",
       " 'chat_history': [HumanMessage(content=\"Hi, I'm Bob\"),\n",
       "  AIMessage(content='Hello Bob! How can I assist you today?'),\n",
       "  HumanMessage(content=\"Please provide a bulletpoint list of the items I'm allowed to bring in my luggage\"),\n",
       "  AIMessage(content='', additional_kwargs={'function_call': {'arguments': '{\\n  \"query\": \"luggage policy\"\\n}', 'name': 'search_transavia_FAQ'}}),\n",
       "  FunctionMessage(content='[Document(page_content=\\'HAND LUGGAGE\\', metadata={\\'source\\': \\'FAQ\\\\\\\\hand_luggage.txt\\', \\'name\\': \\'Hand luggage\\'}), Document(page_content=\\'ALLOWED IN LUGGAGE\\', metadata={\\'source\\': \\'FAQ\\\\\\\\allowed_in_luggage.txt\\', \\'name\\': \\'Allowed in luggage\\'}), Document(page_content=\\'What luggage can I take with me on board? In order to limit contact during boarding and disembarkation, as well as movements in the cabin during the flight, we recommend that you limit your luggage carried on board to the bare minimum. You must stow your own luggage independently. In order to avoid having to get up during the flight in case you want to retrieve a personal item, where possible, put bags that fit in this space (40 cm x 30 cm x20 cm) under the seat in front of you. In order to make your journey easier, you can drop off the largest cabin luggage (maximum size: 55 cm x 35 cm x 25 cm) at the check-in counter free of charge.\\', metadata={\\'source\\': \\'FAQ\\\\\\\\hand_luggage.txt\\', \\'name\\': \\'Hand luggage\\'}), Document(page_content=\"What are the rules for hold luggage? You can distribute your hold luggage among 5 pieces of luggage per person. Maximum total weight: 50 kg per passenger. Maximum weight per bag: 32 kg. *For the Amsterdam-Beirut and Beirut-Amsterdam routes, you can book a maximum of 30 kg of hold luggage per person. Book your hold luggage before you check in, at the airport or online. After you\\'ve checked in, you will no longer be able to change your booking. You may also take musical instruments and household appliances as hold luggage. You may take liquids and aerosol cans with you in your hold luggage, but make sure they do not fall under the category of prohibited items. Such items may never be taken with you in your luggage. If you have any queries about your luggage, please contact the Service Centre or the service desk at the airport. Are you travelling with a baby or a child? Read more about luggage allowances for babies and children. You can consult the list of prohibited objects by clicking here. Are you and your travelling companions on one booking? If so, you can also distribute the kilos of your hold luggage allowance among you. Make sure that you arrive at the check-in desk together to check your hold luggage.\", metadata={\\'source\\': \\'FAQ\\\\\\\\hold_luggage.txt\\', \\'name\\': \\'Hold luggage\\'})]', name='search_transavia_FAQ'),\n",
       "  AIMessage(content='', additional_kwargs={'function_call': {'arguments': '{\\n  \"query\": \"allowed in luggage\"\\n}', 'name': 'search_transavia_FAQ'}}),\n",
       "  FunctionMessage(content=\"[Document(page_content='ALLOWED IN LUGGAGE', metadata={'source': 'FAQ\\\\\\\\allowed_in_luggage.txt', 'name': 'Allowed in luggage'}), Document(page_content='HAND LUGGAGE', metadata={'source': 'FAQ\\\\\\\\hand_luggage.txt', 'name': 'Hand luggage'}), Document(page_content='Am I always allowed to take my hand luggage with me in the cabin? Your accessory (max. 40 x 30 x 20 cm) is always allowed in the cabin. Place it under the seat in front of you. For larger bags and trolleys (max. 55 x 35 x 25 cm) there is limited space in the cabin. Only the first 70 pieces are therefore allowed on board. The remaining bags and trolleys of this size are taken in at the gate and transported free of charge in the hold. Important for onboard safety! If we transport your hand luggage in the hold, make sure you place your electronics and batteries in your accessory (for example in your handbag or backpack). With electronics, we mean a phone, tablet, e-reader, laptop or e-cigarette, for example. With batteries, we mean loose AA batteries or a power bank, for example. You can read more about this in ‘Allowed in luggage’.', metadata={'source': 'FAQ\\\\\\\\hand_luggage.txt', 'name': 'Hand luggage'}), Document(page_content='Can I check in my hand luggage? Please do! You can hand in your hand luggage at the check-in desk at the airport. This leaves your hands free and allows you to go through the security faster. We strictly advise that you take your valuables, such as documents, electronics, batteries and medicines, with you in your accessory (max. 40 x 30 x 20 cm), so that you have them on board. You can retrieve your hand luggage from the baggage carousel after the flight.', metadata={'source': 'FAQ\\\\\\\\hand_luggage.txt', 'name': 'Hand luggage'})]\", name='search_transavia_FAQ'),\n",
       "  AIMessage(content='Here is a bulleted list of the items you are allowed to bring in your luggage:\\n\\n- Hand Luggage:\\n  - You are recommended to limit your luggage carried on board to the bare minimum.\\n  - You must stow your own luggage independently.\\n  - You can put bags that fit in the space under the seat in front of you (40 cm x 30 cm x 20 cm).\\n  - You can drop off the largest cabin luggage (maximum size: 55 cm x 35 cm x 25 cm) at the check-in counter free of charge.\\n\\n- Hold Luggage:\\n  - You can distribute your hold luggage among 5 pieces of luggage per person.\\n  - Maximum total weight: 50 kg per passenger.\\n  - Maximum weight per bag: 32 kg.\\n  - You may also take musical instruments and household appliances as hold luggage.\\n  - You may take liquids and aerosol cans in your hold luggage, as long as they do not fall under the category of prohibited items.\\n\\nPlease note that this is a general overview. For more specific information or if you have any queries about your luggage, it is recommended to contact the Transavia Service Centre or the service desk at the airport.'),\n",
       "  HumanMessage(content='What s my name ?'),\n",
       "  AIMessage(content='Your name is Bob.')],\n",
       " 'output': 'Your name is Bob.',\n",
       " 'intermediate_steps': []}"
      ]
     },
     "execution_count": 46,
     "metadata": {},
     "output_type": "execute_result"
    }
   ],
   "source": [
    "agent_executor({\"input\": \"What s my name ?\"})"
   ]
  },
  {
   "cell_type": "code",
   "execution_count": 47,
   "id": "345edeb8-30d7-4cfc-a309-59add408a1fe",
   "metadata": {},
   "outputs": [
    {
     "name": "stdout",
     "output_type": "stream",
     "text": [
      "\n",
      "\n",
      "\u001b[1m> Entering new AgentExecutor chain...\u001b[0m\n",
      "\u001b[32;1m\u001b[1;3m\n",
      "Invoking: `search_transavia_FAQ` with `{'query': 'bring pet in luggage'}`\n",
      "\n",
      "\n",
      "\u001b[0m\u001b[36;1m\u001b[1;3m[Document(page_content='ALLOWED IN LUGGAGE', metadata={'source': 'FAQ\\\\allowed_in_luggage.txt', 'name': 'Allowed in luggage'}), Document(page_content='HAND LUGGAGE', metadata={'source': 'FAQ\\\\hand_luggage.txt', 'name': 'Hand luggage'}), Document(page_content='Can I check in my hand luggage? Please do! You can hand in your hand luggage at the check-in desk at the airport. This leaves your hands free and allows you to go through the security faster. We strictly advise that you take your valuables, such as documents, electronics, batteries and medicines, with you in your accessory (max. 40 x 30 x 20 cm), so that you have them on board. You can retrieve your hand luggage from the baggage carousel after the flight.', metadata={'source': 'FAQ\\\\hand_luggage.txt', 'name': 'Hand luggage'}), Document(page_content='Can I bring my winter sports equipment with me? If you are only taking ski boots with you, they can be transported in your hand luggage. Keep in mind the maximum weight and size limits for hand luggage . If you are taking winter sports equipment (skis, sled, snowboard, etc.) with you, we ask that you check in this luggage as early as possible because of baggage screening requirements. View the opening hours of the check-in desks. By checking in your bags early you ensure that all luggage and equipment are transported to the aircraft on time.', metadata={'source': 'FAQ\\\\special_luggage.txt', 'name': 'Special luggage'})]\u001b[0m\u001b[32;1m\u001b[1;3m\n",
      "Invoking: `search_transavia_FAQ` with `{'query': 'bring pet'}`\n",
      "\n",
      "\n",
      "\u001b[0m\u001b[36;1m\u001b[1;3m[Document(page_content='HAND LUGGAGE', metadata={'source': 'FAQ\\\\hand_luggage.txt', 'name': 'Hand luggage'}), Document(page_content='ALLOWED IN LUGGAGE', metadata={'source': 'FAQ\\\\allowed_in_luggage.txt', 'name': 'Allowed in luggage'}), Document(page_content='Can I bring an urn on board? We are very sorry for your loss. You can bring an urn on the plane, however there are a number of rules when traveling with an urn: * You can only take the urn in your hand luggage. Check how much hand luggage you can bring here. * The urn must be well packed so that other travellers cannot see that it is an urn. You must not open the urn on board. You are required to bring a death certificate and statement from the crematorium with you, stating that the ashes in the urn belong to the deceased. * The urn must not be made of metal. Spreading the ashes at the destination Do you want to scatter the ashes in a place that was important to you or where you experienced wonderful moments? The rules for scattering ashes vary from country to country. Before departure, make sure to check the rules that apply at your destination. Death certificate Keep the death certificate and statement from the crematorium handy at the airport, as you may need to present them at the security checkpoint.', metadata={'source': 'FAQ\\\\allowed_in_luggage.txt', 'name': 'Allowed in luggage'}), Document(page_content='Can I check in my hand luggage? Please do! You can hand in your hand luggage at the check-in desk at the airport. This leaves your hands free and allows you to go through the security faster. We strictly advise that you take your valuables, such as documents, electronics, batteries and medicines, with you in your accessory (max. 40 x 30 x 20 cm), so that you have them on board. You can retrieve your hand luggage from the baggage carousel after the flight.', metadata={'source': 'FAQ\\\\hand_luggage.txt', 'name': 'Hand luggage'})]\u001b[0m\u001b[32;1m\u001b[1;3mAccording to the information available, it does not specify whether you can bring your pet in your luggage. It is recommended to contact the Transavia Service Centre or the service desk at the airport for more specific information regarding traveling with pets. They will be able to provide you with the necessary guidelines and requirements for bringing your pet on board.\u001b[0m\n",
      "\n",
      "\u001b[1m> Finished chain.\u001b[0m\n"
     ]
    },
    {
     "data": {
      "text/plain": [
       "{'input': 'Can I bring my pet in my luggage?',\n",
       " 'chat_history': [AIMessage(content='', additional_kwargs={'function_call': {'arguments': '{\\n  \"query\": \"allowed in luggage\"\\n}', 'name': 'search_transavia_FAQ'}}),\n",
       "  FunctionMessage(content=\"[Document(page_content='ALLOWED IN LUGGAGE', metadata={'source': 'FAQ\\\\\\\\allowed_in_luggage.txt', 'name': 'Allowed in luggage'}), Document(page_content='HAND LUGGAGE', metadata={'source': 'FAQ\\\\\\\\hand_luggage.txt', 'name': 'Hand luggage'}), Document(page_content='Am I always allowed to take my hand luggage with me in the cabin? Your accessory (max. 40 x 30 x 20 cm) is always allowed in the cabin. Place it under the seat in front of you. For larger bags and trolleys (max. 55 x 35 x 25 cm) there is limited space in the cabin. Only the first 70 pieces are therefore allowed on board. The remaining bags and trolleys of this size are taken in at the gate and transported free of charge in the hold. Important for onboard safety! If we transport your hand luggage in the hold, make sure you place your electronics and batteries in your accessory (for example in your handbag or backpack). With electronics, we mean a phone, tablet, e-reader, laptop or e-cigarette, for example. With batteries, we mean loose AA batteries or a power bank, for example. You can read more about this in ‘Allowed in luggage’.', metadata={'source': 'FAQ\\\\\\\\hand_luggage.txt', 'name': 'Hand luggage'}), Document(page_content='Can I check in my hand luggage? Please do! You can hand in your hand luggage at the check-in desk at the airport. This leaves your hands free and allows you to go through the security faster. We strictly advise that you take your valuables, such as documents, electronics, batteries and medicines, with you in your accessory (max. 40 x 30 x 20 cm), so that you have them on board. You can retrieve your hand luggage from the baggage carousel after the flight.', metadata={'source': 'FAQ\\\\\\\\hand_luggage.txt', 'name': 'Hand luggage'})]\", name='search_transavia_FAQ'),\n",
       "  AIMessage(content='Here is a bulleted list of the items you are allowed to bring in your luggage:\\n\\n- Hand Luggage:\\n  - You are recommended to limit your luggage carried on board to the bare minimum.\\n  - You must stow your own luggage independently.\\n  - You can put bags that fit in the space under the seat in front of you (40 cm x 30 cm x 20 cm).\\n  - You can drop off the largest cabin luggage (maximum size: 55 cm x 35 cm x 25 cm) at the check-in counter free of charge.\\n\\n- Hold Luggage:\\n  - You can distribute your hold luggage among 5 pieces of luggage per person.\\n  - Maximum total weight: 50 kg per passenger.\\n  - Maximum weight per bag: 32 kg.\\n  - You may also take musical instruments and household appliances as hold luggage.\\n  - You may take liquids and aerosol cans in your hold luggage, as long as they do not fall under the category of prohibited items.\\n\\nPlease note that this is a general overview. For more specific information or if you have any queries about your luggage, it is recommended to contact the Transavia Service Centre or the service desk at the airport.'),\n",
       "  HumanMessage(content='What s my name ?'),\n",
       "  AIMessage(content='Your name is Bob.'),\n",
       "  HumanMessage(content='Can I bring my pet in my luggage?'),\n",
       "  AIMessage(content='', additional_kwargs={'function_call': {'arguments': '{\\n  \"query\": \"bring pet in luggage\"\\n}', 'name': 'search_transavia_FAQ'}}),\n",
       "  FunctionMessage(content=\"[Document(page_content='ALLOWED IN LUGGAGE', metadata={'source': 'FAQ\\\\\\\\allowed_in_luggage.txt', 'name': 'Allowed in luggage'}), Document(page_content='HAND LUGGAGE', metadata={'source': 'FAQ\\\\\\\\hand_luggage.txt', 'name': 'Hand luggage'}), Document(page_content='Can I check in my hand luggage? Please do! You can hand in your hand luggage at the check-in desk at the airport. This leaves your hands free and allows you to go through the security faster. We strictly advise that you take your valuables, such as documents, electronics, batteries and medicines, with you in your accessory (max. 40 x 30 x 20 cm), so that you have them on board. You can retrieve your hand luggage from the baggage carousel after the flight.', metadata={'source': 'FAQ\\\\\\\\hand_luggage.txt', 'name': 'Hand luggage'}), Document(page_content='Can I bring my winter sports equipment with me? If you are only taking ski boots with you, they can be transported in your hand luggage. Keep in mind the maximum weight and size limits for hand luggage . If you are taking winter sports equipment (skis, sled, snowboard, etc.) with you, we ask that you check in this luggage as early as possible because of baggage screening requirements. View the opening hours of the check-in desks. By checking in your bags early you ensure that all luggage and equipment are transported to the aircraft on time.', metadata={'source': 'FAQ\\\\\\\\special_luggage.txt', 'name': 'Special luggage'})]\", name='search_transavia_FAQ'),\n",
       "  AIMessage(content='', additional_kwargs={'function_call': {'arguments': '{\\n  \"query\": \"bring pet\"\\n}', 'name': 'search_transavia_FAQ'}}),\n",
       "  FunctionMessage(content=\"[Document(page_content='HAND LUGGAGE', metadata={'source': 'FAQ\\\\\\\\hand_luggage.txt', 'name': 'Hand luggage'}), Document(page_content='ALLOWED IN LUGGAGE', metadata={'source': 'FAQ\\\\\\\\allowed_in_luggage.txt', 'name': 'Allowed in luggage'}), Document(page_content='Can I bring an urn on board? We are very sorry for your loss. You can bring an urn on the plane, however there are a number of rules when traveling with an urn: * You can only take the urn in your hand luggage. Check how much hand luggage you can bring here. * The urn must be well packed so that other travellers cannot see that it is an urn. You must not open the urn on board. You are required to bring a death certificate and statement from the crematorium with you, stating that the ashes in the urn belong to the deceased. * The urn must not be made of metal. Spreading the ashes at the destination Do you want to scatter the ashes in a place that was important to you or where you experienced wonderful moments? The rules for scattering ashes vary from country to country. Before departure, make sure to check the rules that apply at your destination. Death certificate Keep the death certificate and statement from the crematorium handy at the airport, as you may need to present them at the security checkpoint.', metadata={'source': 'FAQ\\\\\\\\allowed_in_luggage.txt', 'name': 'Allowed in luggage'}), Document(page_content='Can I check in my hand luggage? Please do! You can hand in your hand luggage at the check-in desk at the airport. This leaves your hands free and allows you to go through the security faster. We strictly advise that you take your valuables, such as documents, electronics, batteries and medicines, with you in your accessory (max. 40 x 30 x 20 cm), so that you have them on board. You can retrieve your hand luggage from the baggage carousel after the flight.', metadata={'source': 'FAQ\\\\\\\\hand_luggage.txt', 'name': 'Hand luggage'})]\", name='search_transavia_FAQ'),\n",
       "  AIMessage(content='According to the information available, it does not specify whether you can bring your pet in your luggage. It is recommended to contact the Transavia Service Centre or the service desk at the airport for more specific information regarding traveling with pets. They will be able to provide you with the necessary guidelines and requirements for bringing your pet on board.')],\n",
       " 'output': 'According to the information available, it does not specify whether you can bring your pet in your luggage. It is recommended to contact the Transavia Service Centre or the service desk at the airport for more specific information regarding traveling with pets. They will be able to provide you with the necessary guidelines and requirements for bringing your pet on board.',\n",
       " 'intermediate_steps': [(AgentActionMessageLog(tool='search_transavia_FAQ', tool_input={'query': 'bring pet in luggage'}, log=\"\\nInvoking: `search_transavia_FAQ` with `{'query': 'bring pet in luggage'}`\\n\\n\\n\", message_log=[AIMessage(content='', additional_kwargs={'function_call': {'arguments': '{\\n  \"query\": \"bring pet in luggage\"\\n}', 'name': 'search_transavia_FAQ'}})]),\n",
       "   [Document(page_content='ALLOWED IN LUGGAGE', metadata={'source': 'FAQ\\\\allowed_in_luggage.txt', 'name': 'Allowed in luggage'}),\n",
       "    Document(page_content='HAND LUGGAGE', metadata={'source': 'FAQ\\\\hand_luggage.txt', 'name': 'Hand luggage'}),\n",
       "    Document(page_content='Can I check in my hand luggage? Please do! You can hand in your hand luggage at the check-in desk at the airport. This leaves your hands free and allows you to go through the security faster. We strictly advise that you take your valuables, such as documents, electronics, batteries and medicines, with you in your accessory (max. 40 x 30 x 20 cm), so that you have them on board. You can retrieve your hand luggage from the baggage carousel after the flight.', metadata={'source': 'FAQ\\\\hand_luggage.txt', 'name': 'Hand luggage'}),\n",
       "    Document(page_content='Can I bring my winter sports equipment with me? If you are only taking ski boots with you, they can be transported in your hand luggage. Keep in mind the maximum weight and size limits for hand luggage . If you are taking winter sports equipment (skis, sled, snowboard, etc.) with you, we ask that you check in this luggage as early as possible because of baggage screening requirements. View the opening hours of the check-in desks. By checking in your bags early you ensure that all luggage and equipment are transported to the aircraft on time.', metadata={'source': 'FAQ\\\\special_luggage.txt', 'name': 'Special luggage'})]),\n",
       "  (AgentActionMessageLog(tool='search_transavia_FAQ', tool_input={'query': 'bring pet'}, log=\"\\nInvoking: `search_transavia_FAQ` with `{'query': 'bring pet'}`\\n\\n\\n\", message_log=[AIMessage(content='', additional_kwargs={'function_call': {'arguments': '{\\n  \"query\": \"bring pet\"\\n}', 'name': 'search_transavia_FAQ'}})]),\n",
       "   [Document(page_content='HAND LUGGAGE', metadata={'source': 'FAQ\\\\hand_luggage.txt', 'name': 'Hand luggage'}),\n",
       "    Document(page_content='ALLOWED IN LUGGAGE', metadata={'source': 'FAQ\\\\allowed_in_luggage.txt', 'name': 'Allowed in luggage'}),\n",
       "    Document(page_content='Can I bring an urn on board? We are very sorry for your loss. You can bring an urn on the plane, however there are a number of rules when traveling with an urn: * You can only take the urn in your hand luggage. Check how much hand luggage you can bring here. * The urn must be well packed so that other travellers cannot see that it is an urn. You must not open the urn on board. You are required to bring a death certificate and statement from the crematorium with you, stating that the ashes in the urn belong to the deceased. * The urn must not be made of metal. Spreading the ashes at the destination Do you want to scatter the ashes in a place that was important to you or where you experienced wonderful moments? The rules for scattering ashes vary from country to country. Before departure, make sure to check the rules that apply at your destination. Death certificate Keep the death certificate and statement from the crematorium handy at the airport, as you may need to present them at the security checkpoint.', metadata={'source': 'FAQ\\\\allowed_in_luggage.txt', 'name': 'Allowed in luggage'}),\n",
       "    Document(page_content='Can I check in my hand luggage? Please do! You can hand in your hand luggage at the check-in desk at the airport. This leaves your hands free and allows you to go through the security faster. We strictly advise that you take your valuables, such as documents, electronics, batteries and medicines, with you in your accessory (max. 40 x 30 x 20 cm), so that you have them on board. You can retrieve your hand luggage from the baggage carousel after the flight.', metadata={'source': 'FAQ\\\\hand_luggage.txt', 'name': 'Hand luggage'})])]}"
      ]
     },
     "execution_count": 47,
     "metadata": {},
     "output_type": "execute_result"
    }
   ],
   "source": [
    "agent_executor({\"input\": \"Can I bring my pet in my luggage?\"})"
   ]
  },
  {
   "cell_type": "code",
   "execution_count": null,
   "id": "8ddb3220-b8a4-4d45-bd7b-173493a4006e",
   "metadata": {},
   "outputs": [],
   "source": []
  },
  {
   "cell_type": "code",
   "execution_count": null,
   "id": "c1ab3149-8904-4c7b-9cb6-0fa20cb6a829",
   "metadata": {},
   "outputs": [],
   "source": []
  }
 ],
 "metadata": {
  "kernelspec": {
   "display_name": "chat-w-doc2",
   "language": "python",
   "name": "chat-w-doc2"
  },
  "language_info": {
   "codemirror_mode": {
    "name": "ipython",
    "version": 3
   },
   "file_extension": ".py",
   "mimetype": "text/x-python",
   "name": "python",
   "nbconvert_exporter": "python",
   "pygments_lexer": "ipython3",
   "version": "3.10.13"
  }
 },
 "nbformat": 4,
 "nbformat_minor": 5
}
